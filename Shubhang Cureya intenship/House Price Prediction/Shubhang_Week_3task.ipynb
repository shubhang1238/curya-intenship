{
  "nbformat": 4,
  "nbformat_minor": 0,
  "metadata": {
    "kernelspec": {
      "display_name": "Python 3",
      "language": "python",
      "name": "python3"
    },
    "language_info": {
      "codemirror_mode": {
        "name": "ipython",
        "version": 3
      },
      "file_extension": ".py",
      "mimetype": "text/x-python",
      "name": "python",
      "nbconvert_exporter": "python",
      "pygments_lexer": "ipython3",
      "version": "3.7.3"
    },
    "colab": {
      "name": "Shubhang  Week 3task.ipynb",
      "provenance": [],
      "collapsed_sections": []
    }
  },
  "cells": [
    {
      "cell_type": "markdown",
      "metadata": {
        "id": "-5Rum63iJWsX"
      },
      "source": [
        "## Boston House Price Prediction "
      ]
    },
    {
      "cell_type": "markdown",
      "metadata": {
        "id": "IGfjqjojJWsY"
      },
      "source": [
        "### In this project we are going to do perdict the house price based on some of the feature.\n",
        "#using Linear and KNN algorithm!!!"
      ]
    },
    {
      "cell_type": "markdown",
      "metadata": {
        "id": "oAt5yJ20JWsZ"
      },
      "source": [
        "### Import the Libraires and Dataset"
      ]
    },
    {
      "cell_type": "code",
      "metadata": {
        "id": "ubb18TpYJWsZ"
      },
      "source": [
        "# Import libraries\n",
        "import numpy as np\n",
        "import pandas as pd\n",
        "import seaborn as sns\n",
        "import matplotlib.pyplot as pyplot\n",
        "\n",
        "import seaborn\n",
        "from sklearn.datasets import load_boston\n",
        "from sklearn.model_selection import train_test_split\n",
        "from sklearn.neighbors import KNeighborsRegressor\n",
        "from matplotlib import pyplot as plt"
      ],
      "execution_count": 1,
      "outputs": []
    },
    {
      "cell_type": "code",
      "metadata": {
        "colab": {
          "base_uri": "https://localhost:8080/",
          "height": 202
        },
        "id": "P0E-Ijs0JWsZ",
        "outputId": "0de8621c-ced0-40dd-a25c-c9840d6953f0"
      },
      "source": [
        "# Import the train dataset \n",
        "df = pd.read_csv(\"train.csv\")\n",
        "df.head()"
      ],
      "execution_count": 2,
      "outputs": [
        {
          "output_type": "execute_result",
          "data": {
            "text/html": [
              "<div>\n",
              "<style scoped>\n",
              "    .dataframe tbody tr th:only-of-type {\n",
              "        vertical-align: middle;\n",
              "    }\n",
              "\n",
              "    .dataframe tbody tr th {\n",
              "        vertical-align: top;\n",
              "    }\n",
              "\n",
              "    .dataframe thead th {\n",
              "        text-align: right;\n",
              "    }\n",
              "</style>\n",
              "<table border=\"1\" class=\"dataframe\">\n",
              "  <thead>\n",
              "    <tr style=\"text-align: right;\">\n",
              "      <th></th>\n",
              "      <th>ID</th>\n",
              "      <th>crim</th>\n",
              "      <th>zn</th>\n",
              "      <th>indus</th>\n",
              "      <th>chas</th>\n",
              "      <th>nox</th>\n",
              "      <th>rm</th>\n",
              "      <th>age</th>\n",
              "      <th>dis</th>\n",
              "      <th>rad</th>\n",
              "      <th>tax</th>\n",
              "      <th>ptratio</th>\n",
              "      <th>black</th>\n",
              "      <th>lstat</th>\n",
              "      <th>medv</th>\n",
              "    </tr>\n",
              "  </thead>\n",
              "  <tbody>\n",
              "    <tr>\n",
              "      <th>0</th>\n",
              "      <td>1</td>\n",
              "      <td>0.00632</td>\n",
              "      <td>18.0</td>\n",
              "      <td>2.31</td>\n",
              "      <td>0</td>\n",
              "      <td>0.538</td>\n",
              "      <td>6.575</td>\n",
              "      <td>65.2</td>\n",
              "      <td>4.0900</td>\n",
              "      <td>1</td>\n",
              "      <td>296</td>\n",
              "      <td>15.3</td>\n",
              "      <td>396.90</td>\n",
              "      <td>4.98</td>\n",
              "      <td>24.0</td>\n",
              "    </tr>\n",
              "    <tr>\n",
              "      <th>1</th>\n",
              "      <td>2</td>\n",
              "      <td>0.02731</td>\n",
              "      <td>0.0</td>\n",
              "      <td>7.07</td>\n",
              "      <td>0</td>\n",
              "      <td>0.469</td>\n",
              "      <td>6.421</td>\n",
              "      <td>78.9</td>\n",
              "      <td>4.9671</td>\n",
              "      <td>2</td>\n",
              "      <td>242</td>\n",
              "      <td>17.8</td>\n",
              "      <td>396.90</td>\n",
              "      <td>9.14</td>\n",
              "      <td>21.6</td>\n",
              "    </tr>\n",
              "    <tr>\n",
              "      <th>2</th>\n",
              "      <td>4</td>\n",
              "      <td>0.03237</td>\n",
              "      <td>0.0</td>\n",
              "      <td>2.18</td>\n",
              "      <td>0</td>\n",
              "      <td>0.458</td>\n",
              "      <td>6.998</td>\n",
              "      <td>45.8</td>\n",
              "      <td>6.0622</td>\n",
              "      <td>3</td>\n",
              "      <td>222</td>\n",
              "      <td>18.7</td>\n",
              "      <td>394.63</td>\n",
              "      <td>2.94</td>\n",
              "      <td>33.4</td>\n",
              "    </tr>\n",
              "    <tr>\n",
              "      <th>3</th>\n",
              "      <td>5</td>\n",
              "      <td>0.06905</td>\n",
              "      <td>0.0</td>\n",
              "      <td>2.18</td>\n",
              "      <td>0</td>\n",
              "      <td>0.458</td>\n",
              "      <td>7.147</td>\n",
              "      <td>54.2</td>\n",
              "      <td>6.0622</td>\n",
              "      <td>3</td>\n",
              "      <td>222</td>\n",
              "      <td>18.7</td>\n",
              "      <td>396.90</td>\n",
              "      <td>5.33</td>\n",
              "      <td>36.2</td>\n",
              "    </tr>\n",
              "    <tr>\n",
              "      <th>4</th>\n",
              "      <td>7</td>\n",
              "      <td>0.08829</td>\n",
              "      <td>12.5</td>\n",
              "      <td>7.87</td>\n",
              "      <td>0</td>\n",
              "      <td>0.524</td>\n",
              "      <td>6.012</td>\n",
              "      <td>66.6</td>\n",
              "      <td>5.5605</td>\n",
              "      <td>5</td>\n",
              "      <td>311</td>\n",
              "      <td>15.2</td>\n",
              "      <td>395.60</td>\n",
              "      <td>12.43</td>\n",
              "      <td>22.9</td>\n",
              "    </tr>\n",
              "  </tbody>\n",
              "</table>\n",
              "</div>"
            ],
            "text/plain": [
              "   ID     crim    zn  indus  chas  ...  tax  ptratio   black  lstat  medv\n",
              "0   1  0.00632  18.0   2.31     0  ...  296     15.3  396.90   4.98  24.0\n",
              "1   2  0.02731   0.0   7.07     0  ...  242     17.8  396.90   9.14  21.6\n",
              "2   4  0.03237   0.0   2.18     0  ...  222     18.7  394.63   2.94  33.4\n",
              "3   5  0.06905   0.0   2.18     0  ...  222     18.7  396.90   5.33  36.2\n",
              "4   7  0.08829  12.5   7.87     0  ...  311     15.2  395.60  12.43  22.9\n",
              "\n",
              "[5 rows x 15 columns]"
            ]
          },
          "metadata": {
            "tags": []
          },
          "execution_count": 2
        }
      ]
    },
    {
      "cell_type": "markdown",
      "metadata": {
        "id": "1ATBK2GpJWsa"
      },
      "source": [
        "### Data Preprocessing"
      ]
    },
    {
      "cell_type": "code",
      "metadata": {
        "colab": {
          "base_uri": "https://localhost:8080/"
        },
        "id": "WJFshClHJWsb",
        "outputId": "962b3b92-9faf-492a-bfa5-e4a0886e4eaa"
      },
      "source": [
        "# Shape of dataset\n",
        "print(\"Shape of Trainnig dataset:\", df.shape)"
      ],
      "execution_count": 3,
      "outputs": [
        {
          "output_type": "stream",
          "text": [
            "Shape of Trainnig dataset: (333, 15)\n"
          ],
          "name": "stdout"
        }
      ]
    },
    {
      "cell_type": "code",
      "metadata": {
        "colab": {
          "base_uri": "https://localhost:8080/"
        },
        "id": "0ZwdexD3JWsb",
        "outputId": "4e8387e4-ec18-410b-fb62-a6d2f316c080"
      },
      "source": [
        "# Checking null values for training dataset\n",
        "df.isnull().sum()"
      ],
      "execution_count": 4,
      "outputs": [
        {
          "output_type": "execute_result",
          "data": {
            "text/plain": [
              "ID         0\n",
              "crim       0\n",
              "zn         0\n",
              "indus      0\n",
              "chas       0\n",
              "nox        0\n",
              "rm         0\n",
              "age        0\n",
              "dis        0\n",
              "rad        0\n",
              "tax        0\n",
              "ptratio    0\n",
              "black      0\n",
              "lstat      0\n",
              "medv       0\n",
              "dtype: int64"
            ]
          },
          "metadata": {
            "tags": []
          },
          "execution_count": 4
        }
      ]
    },
    {
      "cell_type": "code",
      "metadata": {
        "id": "_26u2WfiJWsd"
      },
      "source": [
        "# Here lets change 'medv' column name to 'Price'\n",
        "df.rename(columns={'medv':'Price'},inplace=True)"
      ],
      "execution_count": 5,
      "outputs": []
    },
    {
      "cell_type": "code",
      "metadata": {
        "colab": {
          "base_uri": "https://localhost:8080/"
        },
        "id": "eloFu8T8JWsd",
        "outputId": "19e953c5-b9d6-4d33-997b-d620e5143f5a"
      },
      "source": [
        "# Information about the training dataset\n",
        "df.info()"
      ],
      "execution_count": 6,
      "outputs": [
        {
          "output_type": "stream",
          "text": [
            "<class 'pandas.core.frame.DataFrame'>\n",
            "RangeIndex: 333 entries, 0 to 332\n",
            "Data columns (total 15 columns):\n",
            " #   Column   Non-Null Count  Dtype  \n",
            "---  ------   --------------  -----  \n",
            " 0   ID       333 non-null    int64  \n",
            " 1   crim     333 non-null    float64\n",
            " 2   zn       333 non-null    float64\n",
            " 3   indus    333 non-null    float64\n",
            " 4   chas     333 non-null    int64  \n",
            " 5   nox      333 non-null    float64\n",
            " 6   rm       333 non-null    float64\n",
            " 7   age      333 non-null    float64\n",
            " 8   dis      333 non-null    float64\n",
            " 9   rad      333 non-null    int64  \n",
            " 10  tax      333 non-null    int64  \n",
            " 11  ptratio  333 non-null    float64\n",
            " 12  black    333 non-null    float64\n",
            " 13  lstat    333 non-null    float64\n",
            " 14  Price    333 non-null    float64\n",
            "dtypes: float64(11), int64(4)\n",
            "memory usage: 39.1 KB\n"
          ],
          "name": "stdout"
        }
      ]
    },
    {
      "cell_type": "code",
      "metadata": {
        "colab": {
          "base_uri": "https://localhost:8080/",
          "height": 294
        },
        "id": "ExbQsO5gJWsd",
        "outputId": "2748563d-8f16-40a5-b82a-65be4eb7ace1"
      },
      "source": [
        "# Describe\n",
        "df.describe()"
      ],
      "execution_count": 7,
      "outputs": [
        {
          "output_type": "execute_result",
          "data": {
            "text/html": [
              "<div>\n",
              "<style scoped>\n",
              "    .dataframe tbody tr th:only-of-type {\n",
              "        vertical-align: middle;\n",
              "    }\n",
              "\n",
              "    .dataframe tbody tr th {\n",
              "        vertical-align: top;\n",
              "    }\n",
              "\n",
              "    .dataframe thead th {\n",
              "        text-align: right;\n",
              "    }\n",
              "</style>\n",
              "<table border=\"1\" class=\"dataframe\">\n",
              "  <thead>\n",
              "    <tr style=\"text-align: right;\">\n",
              "      <th></th>\n",
              "      <th>ID</th>\n",
              "      <th>crim</th>\n",
              "      <th>zn</th>\n",
              "      <th>indus</th>\n",
              "      <th>chas</th>\n",
              "      <th>nox</th>\n",
              "      <th>rm</th>\n",
              "      <th>age</th>\n",
              "      <th>dis</th>\n",
              "      <th>rad</th>\n",
              "      <th>tax</th>\n",
              "      <th>ptratio</th>\n",
              "      <th>black</th>\n",
              "      <th>lstat</th>\n",
              "      <th>Price</th>\n",
              "    </tr>\n",
              "  </thead>\n",
              "  <tbody>\n",
              "    <tr>\n",
              "      <th>count</th>\n",
              "      <td>333.000000</td>\n",
              "      <td>333.000000</td>\n",
              "      <td>333.000000</td>\n",
              "      <td>333.000000</td>\n",
              "      <td>333.000000</td>\n",
              "      <td>333.000000</td>\n",
              "      <td>333.000000</td>\n",
              "      <td>333.000000</td>\n",
              "      <td>333.000000</td>\n",
              "      <td>333.000000</td>\n",
              "      <td>333.000000</td>\n",
              "      <td>333.000000</td>\n",
              "      <td>333.000000</td>\n",
              "      <td>333.000000</td>\n",
              "      <td>333.000000</td>\n",
              "    </tr>\n",
              "    <tr>\n",
              "      <th>mean</th>\n",
              "      <td>250.951952</td>\n",
              "      <td>3.360341</td>\n",
              "      <td>10.689189</td>\n",
              "      <td>11.293483</td>\n",
              "      <td>0.060060</td>\n",
              "      <td>0.557144</td>\n",
              "      <td>6.265619</td>\n",
              "      <td>68.226426</td>\n",
              "      <td>3.709934</td>\n",
              "      <td>9.633634</td>\n",
              "      <td>409.279279</td>\n",
              "      <td>18.448048</td>\n",
              "      <td>359.466096</td>\n",
              "      <td>12.515435</td>\n",
              "      <td>22.768769</td>\n",
              "    </tr>\n",
              "    <tr>\n",
              "      <th>std</th>\n",
              "      <td>147.859438</td>\n",
              "      <td>7.352272</td>\n",
              "      <td>22.674762</td>\n",
              "      <td>6.998123</td>\n",
              "      <td>0.237956</td>\n",
              "      <td>0.114955</td>\n",
              "      <td>0.703952</td>\n",
              "      <td>28.133344</td>\n",
              "      <td>1.981123</td>\n",
              "      <td>8.742174</td>\n",
              "      <td>170.841988</td>\n",
              "      <td>2.151821</td>\n",
              "      <td>86.584567</td>\n",
              "      <td>7.067781</td>\n",
              "      <td>9.173468</td>\n",
              "    </tr>\n",
              "    <tr>\n",
              "      <th>min</th>\n",
              "      <td>1.000000</td>\n",
              "      <td>0.006320</td>\n",
              "      <td>0.000000</td>\n",
              "      <td>0.740000</td>\n",
              "      <td>0.000000</td>\n",
              "      <td>0.385000</td>\n",
              "      <td>3.561000</td>\n",
              "      <td>6.000000</td>\n",
              "      <td>1.129600</td>\n",
              "      <td>1.000000</td>\n",
              "      <td>188.000000</td>\n",
              "      <td>12.600000</td>\n",
              "      <td>3.500000</td>\n",
              "      <td>1.730000</td>\n",
              "      <td>5.000000</td>\n",
              "    </tr>\n",
              "    <tr>\n",
              "      <th>25%</th>\n",
              "      <td>123.000000</td>\n",
              "      <td>0.078960</td>\n",
              "      <td>0.000000</td>\n",
              "      <td>5.130000</td>\n",
              "      <td>0.000000</td>\n",
              "      <td>0.453000</td>\n",
              "      <td>5.884000</td>\n",
              "      <td>45.400000</td>\n",
              "      <td>2.122400</td>\n",
              "      <td>4.000000</td>\n",
              "      <td>279.000000</td>\n",
              "      <td>17.400000</td>\n",
              "      <td>376.730000</td>\n",
              "      <td>7.180000</td>\n",
              "      <td>17.400000</td>\n",
              "    </tr>\n",
              "    <tr>\n",
              "      <th>50%</th>\n",
              "      <td>244.000000</td>\n",
              "      <td>0.261690</td>\n",
              "      <td>0.000000</td>\n",
              "      <td>9.900000</td>\n",
              "      <td>0.000000</td>\n",
              "      <td>0.538000</td>\n",
              "      <td>6.202000</td>\n",
              "      <td>76.700000</td>\n",
              "      <td>3.092300</td>\n",
              "      <td>5.000000</td>\n",
              "      <td>330.000000</td>\n",
              "      <td>19.000000</td>\n",
              "      <td>392.050000</td>\n",
              "      <td>10.970000</td>\n",
              "      <td>21.600000</td>\n",
              "    </tr>\n",
              "    <tr>\n",
              "      <th>75%</th>\n",
              "      <td>377.000000</td>\n",
              "      <td>3.678220</td>\n",
              "      <td>12.500000</td>\n",
              "      <td>18.100000</td>\n",
              "      <td>0.000000</td>\n",
              "      <td>0.631000</td>\n",
              "      <td>6.595000</td>\n",
              "      <td>93.800000</td>\n",
              "      <td>5.116700</td>\n",
              "      <td>24.000000</td>\n",
              "      <td>666.000000</td>\n",
              "      <td>20.200000</td>\n",
              "      <td>396.240000</td>\n",
              "      <td>16.420000</td>\n",
              "      <td>25.000000</td>\n",
              "    </tr>\n",
              "    <tr>\n",
              "      <th>max</th>\n",
              "      <td>506.000000</td>\n",
              "      <td>73.534100</td>\n",
              "      <td>100.000000</td>\n",
              "      <td>27.740000</td>\n",
              "      <td>1.000000</td>\n",
              "      <td>0.871000</td>\n",
              "      <td>8.725000</td>\n",
              "      <td>100.000000</td>\n",
              "      <td>10.710300</td>\n",
              "      <td>24.000000</td>\n",
              "      <td>711.000000</td>\n",
              "      <td>21.200000</td>\n",
              "      <td>396.900000</td>\n",
              "      <td>37.970000</td>\n",
              "      <td>50.000000</td>\n",
              "    </tr>\n",
              "  </tbody>\n",
              "</table>\n",
              "</div>"
            ],
            "text/plain": [
              "               ID        crim          zn  ...       black       lstat       Price\n",
              "count  333.000000  333.000000  333.000000  ...  333.000000  333.000000  333.000000\n",
              "mean   250.951952    3.360341   10.689189  ...  359.466096   12.515435   22.768769\n",
              "std    147.859438    7.352272   22.674762  ...   86.584567    7.067781    9.173468\n",
              "min      1.000000    0.006320    0.000000  ...    3.500000    1.730000    5.000000\n",
              "25%    123.000000    0.078960    0.000000  ...  376.730000    7.180000   17.400000\n",
              "50%    244.000000    0.261690    0.000000  ...  392.050000   10.970000   21.600000\n",
              "75%    377.000000    3.678220   12.500000  ...  396.240000   16.420000   25.000000\n",
              "max    506.000000   73.534100  100.000000  ...  396.900000   37.970000   50.000000\n",
              "\n",
              "[8 rows x 15 columns]"
            ]
          },
          "metadata": {
            "tags": []
          },
          "execution_count": 7
        }
      ]
    },
    {
      "cell_type": "code",
      "metadata": {
        "id": "yZxSINjQJWse"
      },
      "source": [
        ""
      ],
      "execution_count": 7,
      "outputs": []
    },
    {
      "cell_type": "markdown",
      "metadata": {
        "id": "5zIIFIDsJWse"
      },
      "source": [
        "### Exploratory Data Analysis"
      ]
    },
    {
      "cell_type": "code",
      "metadata": {
        "id": "ZNkcBrhBJWse"
      },
      "source": [
        "# Let's know more about the data features"
      ],
      "execution_count": 8,
      "outputs": []
    },
    {
      "cell_type": "markdown",
      "metadata": {
        "id": "P06HCZU6JWse"
      },
      "source": [
        "* **CRIM** per capita crime rate by town\n",
        "* **ZN** proportion of residential land zoned for lots over 25,000 sq.ft.\n",
        "* **INDUS** proportion of non-retail business acres per town\n",
        "* **CHAS** Charles River dummy variable (= 1 if tract bounds river; 0 otherwise)\n",
        "* **NOX** nitric oxides concentration (parts per 10 million)\n",
        "* **RM** average number of rooms per dwelling\n",
        "* **AGE** proportion of owner-occupied units built prior to 1940\n",
        "* **DIS** weighted distances to five Boston employment centres\n",
        "* **RAD** index of accessibility to radial highways\n",
        "* **TAX** full-value property-tax rate per 10,000usd\n",
        "* **PTRATIO** pupil-teacher ratio by town\n",
        "* **Black** 1000(Bk - 0.63)^2 where Bk is the proportion of blacks by town\n",
        "* **LSTAT** % lower status of the population"
      ]
    },
    {
      "cell_type": "code",
      "metadata": {
        "colab": {
          "base_uri": "https://localhost:8080/"
        },
        "id": "YGtvn9PPJWsf",
        "outputId": "07712fb8-c533-495b-f7df-91de05901ad4"
      },
      "source": [
        "# Finding out the correlation between the features\n",
        "corr = df.corr()\n",
        "corr.shape"
      ],
      "execution_count": 9,
      "outputs": [
        {
          "output_type": "execute_result",
          "data": {
            "text/plain": [
              "(15, 15)"
            ]
          },
          "metadata": {
            "tags": []
          },
          "execution_count": 9
        }
      ]
    },
    {
      "cell_type": "code",
      "metadata": {
        "colab": {
          "base_uri": "https://localhost:8080/",
          "height": 826
        },
        "id": "E2203pUuJWsf",
        "outputId": "2e3f240d-1445-41c2-c16f-41bab3d6cf85"
      },
      "source": [
        "# Plotting the heatmap of correlation between features\n",
        "plt.figure(figsize=(14,14))\n",
        "sns.heatmap(corr, cbar=False, square= True, fmt='.2%', annot=True, cmap='Greens')"
      ],
      "execution_count": 10,
      "outputs": [
        {
          "output_type": "execute_result",
          "data": {
            "text/plain": [
              "<matplotlib.axes._subplots.AxesSubplot at 0x7fab6fec1550>"
            ]
          },
          "metadata": {
            "tags": []
          },
          "execution_count": 10
        },
        {
          "output_type": "display_data",
          "data": {
            "image/png": "[encoded data removed]",
            "text/plain": [
              "<Figure size 1008x1008 with 1 Axes>"
            ]
          },
          "metadata": {
            "tags": [],
            "needs_background": "light"
          }
        }
      ]
    },
    {
      "cell_type": "code",
      "metadata": {
        "colab": {
          "base_uri": "https://localhost:8080/",
          "height": 296
        },
        "id": "nfC1TVAYJWsg",
        "outputId": "fc4aca0f-8370-4a69-db8e-4ea6d52f1e88"
      },
      "source": [
        "sns.set_style('whitegrid')\n",
        "sns.countplot(x='rad',data=df)"
      ],
      "execution_count": 11,
      "outputs": [
        {
          "output_type": "execute_result",
          "data": {
            "text/plain": [
              "<matplotlib.axes._subplots.AxesSubplot at 0x7fab6249aa90>"
            ]
          },
          "metadata": {
            "tags": []
          },
          "execution_count": 11
        },
        {
          "output_type": "display_data",
          "data": {
            "image/png": "[encoded data removed]",
            "text/plain": [
              "<Figure size 432x288 with 1 Axes>"
            ]
          },
          "metadata": {
            "tags": []
          }
        }
      ]
    },
    {
      "cell_type": "code",
      "metadata": {
        "colab": {
          "base_uri": "https://localhost:8080/",
          "height": 296
        },
        "id": "dkuTFoa4JWsh",
        "outputId": "fee0a327-fc75-4b7c-fec7-abb329a9d152"
      },
      "source": [
        "sns.set_style('whitegrid')\n",
        "sns.countplot(x='chas',data=df)"
      ],
      "execution_count": 12,
      "outputs": [
        {
          "output_type": "execute_result",
          "data": {
            "text/plain": [
              "<matplotlib.axes._subplots.AxesSubplot at 0x7fab6247a410>"
            ]
          },
          "metadata": {
            "tags": []
          },
          "execution_count": 12
        },
        {
          "output_type": "display_data",
          "data": {
            "image/png": "[encoded data removed]",
            "text/plain": [
              "<Figure size 432x288 with 1 Axes>"
            ]
          },
          "metadata": {
            "tags": []
          }
        }
      ]
    },
    {
      "cell_type": "code",
      "metadata": {
        "colab": {
          "base_uri": "https://localhost:8080/",
          "height": 296
        },
        "id": "Z2QgVw_FJWsj",
        "outputId": "187ea993-7dee-413f-eb64-e93d44e13967"
      },
      "source": [
        "sns.set_style('whitegrid')\n",
        "sns.countplot(x='chas',hue='rad',data=df,palette='RdBu_r')"
      ],
      "execution_count": 13,
      "outputs": [
        {
          "output_type": "execute_result",
          "data": {
            "text/plain": [
              "<matplotlib.axes._subplots.AxesSubplot at 0x7fab6112f250>"
            ]
          },
          "metadata": {
            "tags": []
          },
          "execution_count": 13
        },
        {
          "output_type": "display_data",
          "data": {
            "image/png": "[encoded data removed]",
            "text/plain": [
              "<Figure size 432x288 with 1 Axes>"
            ]
          },
          "metadata": {
            "tags": []
          }
        }
      ]
    },
    {
      "cell_type": "code",
      "metadata": {
        "colab": {
          "base_uri": "https://localhost:8080/",
          "height": 352
        },
        "id": "HUkVR2JNJWsk",
        "outputId": "cfc36e76-ea08-4f5c-f44c-075339863108"
      },
      "source": [
        "sns.distplot(df['age'].dropna(),kde=False,color='darkred',bins=40)"
      ],
      "execution_count": 14,
      "outputs": [
        {
          "output_type": "stream",
          "text": [
            "/usr/local/lib/python3.7/dist-packages/seaborn/distributions.py:2557: FutureWarning: `distplot` is a deprecated function and will be removed in a future version. Please adapt your code to use either `displot` (a figure-level function with similar flexibility) or `histplot` (an axes-level function for histograms).\n",
            "  warnings.warn(msg, FutureWarning)\n"
          ],
          "name": "stderr"
        },
        {
          "output_type": "execute_result",
          "data": {
            "text/plain": [
              "<matplotlib.axes._subplots.AxesSubplot at 0x7fab6002dfd0>"
            ]
          },
          "metadata": {
            "tags": []
          },
          "execution_count": 14
        },
        {
          "output_type": "display_data",
          "data": {
            "image/png": "[encoded data removed]",
            "text/plain": [
              "<Figure size 432x288 with 1 Axes>"
            ]
          },
          "metadata": {
            "tags": []
          }
        }
      ]
    },
    {
      "cell_type": "code",
      "metadata": {
        "colab": {
          "base_uri": "https://localhost:8080/",
          "height": 352
        },
        "id": "Qtt3ytIqJWsl",
        "outputId": "8206dfff-c0a9-4e25-eac4-6757f4ff0354"
      },
      "source": [
        "sns.distplot(df['crim'].dropna(),kde=False,color='darkorange',bins=40)"
      ],
      "execution_count": 15,
      "outputs": [
        {
          "output_type": "stream",
          "text": [
            "/usr/local/lib/python3.7/dist-packages/seaborn/distributions.py:2557: FutureWarning: `distplot` is a deprecated function and will be removed in a future version. Please adapt your code to use either `displot` (a figure-level function with similar flexibility) or `histplot` (an axes-level function for histograms).\n",
            "  warnings.warn(msg, FutureWarning)\n"
          ],
          "name": "stderr"
        },
        {
          "output_type": "execute_result",
          "data": {
            "text/plain": [
              "<matplotlib.axes._subplots.AxesSubplot at 0x7fab5ff89d10>"
            ]
          },
          "metadata": {
            "tags": []
          },
          "execution_count": 15
        },
        {
          "output_type": "display_data",
          "data": {
            "image/png": "[encoded data removed]",
            "text/plain": [
              "<Figure size 432x288 with 1 Axes>"
            ]
          },
          "metadata": {
            "tags": []
          }
        }
      ]
    },
    {
      "cell_type": "code",
      "metadata": {
        "colab": {
          "base_uri": "https://localhost:8080/",
          "height": 352
        },
        "id": "DA3lDYYtJWsl",
        "outputId": "1d99ce16-843d-448b-9f1c-515cc0126195"
      },
      "source": [
        "sns.distplot(df['rm'].dropna(),kde=False,color='darkblue',bins=40)"
      ],
      "execution_count": 16,
      "outputs": [
        {
          "output_type": "stream",
          "text": [
            "/usr/local/lib/python3.7/dist-packages/seaborn/distributions.py:2557: FutureWarning: `distplot` is a deprecated function and will be removed in a future version. Please adapt your code to use either `displot` (a figure-level function with similar flexibility) or `histplot` (an axes-level function for histograms).\n",
            "  warnings.warn(msg, FutureWarning)\n"
          ],
          "name": "stderr"
        },
        {
          "output_type": "execute_result",
          "data": {
            "text/plain": [
              "<matplotlib.axes._subplots.AxesSubplot at 0x7fab5fe70350>"
            ]
          },
          "metadata": {
            "tags": []
          },
          "execution_count": 16
        },
        {
          "output_type": "display_data",
          "data": {
            "image/png": "[encoded data removed]",
            "text/plain": [
              "<Figure size 432x288 with 1 Axes>"
            ]
          },
          "metadata": {
            "tags": []
          }
        }
      ]
    },
    {
      "cell_type": "markdown",
      "metadata": {
        "id": "uXsSMUlpJWsm"
      },
      "source": [
        "## Feature Selection"
      ]
    },
    {
      "cell_type": "code",
      "metadata": {
        "id": "qh6PdP2cJWsm"
      },
      "source": [
        "# Lets try to understand which are important feature for this dataset\n",
        "from sklearn.feature_selection import SelectKBest\n",
        "from sklearn.feature_selection import chi2"
      ],
      "execution_count": 17,
      "outputs": []
    },
    {
      "cell_type": "code",
      "metadata": {
        "id": "1EG6rN7IJWsm"
      },
      "source": [
        "X = df.iloc[:,0:13]  #independent columns\n",
        "y = df.iloc[:,-1]    #target column i.e price range"
      ],
      "execution_count": 18,
      "outputs": []
    },
    {
      "cell_type": "code",
      "metadata": {
        "colab": {
          "base_uri": "https://localhost:8080/",
          "height": 202
        },
        "id": "lh92JMUgJWsm",
        "outputId": "0641ad90-ed1e-4943-cb6d-c4f050f7af4e"
      },
      "source": [
        "X.head()"
      ],
      "execution_count": 19,
      "outputs": [
        {
          "output_type": "execute_result",
          "data": {
            "text/html": [
              "<div>\n",
              "<style scoped>\n",
              "    .dataframe tbody tr th:only-of-type {\n",
              "        vertical-align: middle;\n",
              "    }\n",
              "\n",
              "    .dataframe tbody tr th {\n",
              "        vertical-align: top;\n",
              "    }\n",
              "\n",
              "    .dataframe thead th {\n",
              "        text-align: right;\n",
              "    }\n",
              "</style>\n",
              "<table border=\"1\" class=\"dataframe\">\n",
              "  <thead>\n",
              "    <tr style=\"text-align: right;\">\n",
              "      <th></th>\n",
              "      <th>ID</th>\n",
              "      <th>crim</th>\n",
              "      <th>zn</th>\n",
              "      <th>indus</th>\n",
              "      <th>chas</th>\n",
              "      <th>nox</th>\n",
              "      <th>rm</th>\n",
              "      <th>age</th>\n",
              "      <th>dis</th>\n",
              "      <th>rad</th>\n",
              "      <th>tax</th>\n",
              "      <th>ptratio</th>\n",
              "      <th>black</th>\n",
              "    </tr>\n",
              "  </thead>\n",
              "  <tbody>\n",
              "    <tr>\n",
              "      <th>0</th>\n",
              "      <td>1</td>\n",
              "      <td>0.00632</td>\n",
              "      <td>18.0</td>\n",
              "      <td>2.31</td>\n",
              "      <td>0</td>\n",
              "      <td>0.538</td>\n",
              "      <td>6.575</td>\n",
              "      <td>65.2</td>\n",
              "      <td>4.0900</td>\n",
              "      <td>1</td>\n",
              "      <td>296</td>\n",
              "      <td>15.3</td>\n",
              "      <td>396.90</td>\n",
              "    </tr>\n",
              "    <tr>\n",
              "      <th>1</th>\n",
              "      <td>2</td>\n",
              "      <td>0.02731</td>\n",
              "      <td>0.0</td>\n",
              "      <td>7.07</td>\n",
              "      <td>0</td>\n",
              "      <td>0.469</td>\n",
              "      <td>6.421</td>\n",
              "      <td>78.9</td>\n",
              "      <td>4.9671</td>\n",
              "      <td>2</td>\n",
              "      <td>242</td>\n",
              "      <td>17.8</td>\n",
              "      <td>396.90</td>\n",
              "    </tr>\n",
              "    <tr>\n",
              "      <th>2</th>\n",
              "      <td>4</td>\n",
              "      <td>0.03237</td>\n",
              "      <td>0.0</td>\n",
              "      <td>2.18</td>\n",
              "      <td>0</td>\n",
              "      <td>0.458</td>\n",
              "      <td>6.998</td>\n",
              "      <td>45.8</td>\n",
              "      <td>6.0622</td>\n",
              "      <td>3</td>\n",
              "      <td>222</td>\n",
              "      <td>18.7</td>\n",
              "      <td>394.63</td>\n",
              "    </tr>\n",
              "    <tr>\n",
              "      <th>3</th>\n",
              "      <td>5</td>\n",
              "      <td>0.06905</td>\n",
              "      <td>0.0</td>\n",
              "      <td>2.18</td>\n",
              "      <td>0</td>\n",
              "      <td>0.458</td>\n",
              "      <td>7.147</td>\n",
              "      <td>54.2</td>\n",
              "      <td>6.0622</td>\n",
              "      <td>3</td>\n",
              "      <td>222</td>\n",
              "      <td>18.7</td>\n",
              "      <td>396.90</td>\n",
              "    </tr>\n",
              "    <tr>\n",
              "      <th>4</th>\n",
              "      <td>7</td>\n",
              "      <td>0.08829</td>\n",
              "      <td>12.5</td>\n",
              "      <td>7.87</td>\n",
              "      <td>0</td>\n",
              "      <td>0.524</td>\n",
              "      <td>6.012</td>\n",
              "      <td>66.6</td>\n",
              "      <td>5.5605</td>\n",
              "      <td>5</td>\n",
              "      <td>311</td>\n",
              "      <td>15.2</td>\n",
              "      <td>395.60</td>\n",
              "    </tr>\n",
              "  </tbody>\n",
              "</table>\n",
              "</div>"
            ],
            "text/plain": [
              "   ID     crim    zn  indus  chas  ...     dis  rad  tax  ptratio   black\n",
              "0   1  0.00632  18.0   2.31     0  ...  4.0900    1  296     15.3  396.90\n",
              "1   2  0.02731   0.0   7.07     0  ...  4.9671    2  242     17.8  396.90\n",
              "2   4  0.03237   0.0   2.18     0  ...  6.0622    3  222     18.7  394.63\n",
              "3   5  0.06905   0.0   2.18     0  ...  6.0622    3  222     18.7  396.90\n",
              "4   7  0.08829  12.5   7.87     0  ...  5.5605    5  311     15.2  395.60\n",
              "\n",
              "[5 rows x 13 columns]"
            ]
          },
          "metadata": {
            "tags": []
          },
          "execution_count": 19
        }
      ]
    },
    {
      "cell_type": "code",
      "metadata": {
        "id": "GRRLo1_4JWsn"
      },
      "source": [
        "y = np.round(df['Price'])"
      ],
      "execution_count": 20,
      "outputs": []
    },
    {
      "cell_type": "code",
      "metadata": {
        "id": "wAjwPjYZJWsn"
      },
      "source": [
        "#apply SelectKBest class to extract top 10 best features\n",
        "bestfeatures = SelectKBest(score_func=chi2, k=5)\n",
        "fit = bestfeatures.fit(X,y)"
      ],
      "execution_count": 21,
      "outputs": []
    },
    {
      "cell_type": "code",
      "metadata": {
        "id": "cnc4HBH-JWsn"
      },
      "source": [
        "dfscores = pd.DataFrame(fit.scores_)\n",
        "dfcolumns = pd.DataFrame(X.columns)"
      ],
      "execution_count": 22,
      "outputs": []
    },
    {
      "cell_type": "code",
      "metadata": {
        "id": "HKdZjveeJWsn"
      },
      "source": [
        "#concat two dataframes for better visualization \n",
        "featureScores = pd.concat([dfcolumns,dfscores],axis=1)\n",
        "featureScores.columns = ['Specs','Score']  #naming the dataframe columns"
      ],
      "execution_count": 23,
      "outputs": []
    },
    {
      "cell_type": "code",
      "metadata": {
        "colab": {
          "base_uri": "https://localhost:8080/",
          "height": 447
        },
        "id": "cYHQR2_rJWso",
        "outputId": "bce55911-73ae-40e2-ccc7-cb79f9b3aff9"
      },
      "source": [
        "featureScores"
      ],
      "execution_count": 24,
      "outputs": [
        {
          "output_type": "execute_result",
          "data": {
            "text/html": [
              "<div>\n",
              "<style scoped>\n",
              "    .dataframe tbody tr th:only-of-type {\n",
              "        vertical-align: middle;\n",
              "    }\n",
              "\n",
              "    .dataframe tbody tr th {\n",
              "        vertical-align: top;\n",
              "    }\n",
              "\n",
              "    .dataframe thead th {\n",
              "        text-align: right;\n",
              "    }\n",
              "</style>\n",
              "<table border=\"1\" class=\"dataframe\">\n",
              "  <thead>\n",
              "    <tr style=\"text-align: right;\">\n",
              "      <th></th>\n",
              "      <th>Specs</th>\n",
              "      <th>Score</th>\n",
              "    </tr>\n",
              "  </thead>\n",
              "  <tbody>\n",
              "    <tr>\n",
              "      <th>0</th>\n",
              "      <td>ID</td>\n",
              "      <td>5213.133252</td>\n",
              "    </tr>\n",
              "    <tr>\n",
              "      <th>1</th>\n",
              "      <td>crim</td>\n",
              "      <td>3251.396750</td>\n",
              "    </tr>\n",
              "    <tr>\n",
              "      <th>2</th>\n",
              "      <td>zn</td>\n",
              "      <td>4193.279045</td>\n",
              "    </tr>\n",
              "    <tr>\n",
              "      <th>3</th>\n",
              "      <td>indus</td>\n",
              "      <td>618.607714</td>\n",
              "    </tr>\n",
              "    <tr>\n",
              "      <th>4</th>\n",
              "      <td>chas</td>\n",
              "      <td>49.220803</td>\n",
              "    </tr>\n",
              "    <tr>\n",
              "      <th>5</th>\n",
              "      <td>nox</td>\n",
              "      <td>3.292260</td>\n",
              "    </tr>\n",
              "    <tr>\n",
              "      <th>6</th>\n",
              "      <td>rm</td>\n",
              "      <td>14.620403</td>\n",
              "    </tr>\n",
              "    <tr>\n",
              "      <th>7</th>\n",
              "      <td>age</td>\n",
              "      <td>1659.128989</td>\n",
              "    </tr>\n",
              "    <tr>\n",
              "      <th>8</th>\n",
              "      <td>dis</td>\n",
              "      <td>106.642659</td>\n",
              "    </tr>\n",
              "    <tr>\n",
              "      <th>9</th>\n",
              "      <td>rad</td>\n",
              "      <td>879.520751</td>\n",
              "    </tr>\n",
              "    <tr>\n",
              "      <th>10</th>\n",
              "      <td>tax</td>\n",
              "      <td>9441.032032</td>\n",
              "    </tr>\n",
              "    <tr>\n",
              "      <th>11</th>\n",
              "      <td>ptratio</td>\n",
              "      <td>30.474467</td>\n",
              "    </tr>\n",
              "    <tr>\n",
              "      <th>12</th>\n",
              "      <td>black</td>\n",
              "      <td>2440.426651</td>\n",
              "    </tr>\n",
              "  </tbody>\n",
              "</table>\n",
              "</div>"
            ],
            "text/plain": [
              "      Specs        Score\n",
              "0        ID  5213.133252\n",
              "1      crim  3251.396750\n",
              "2        zn  4193.279045\n",
              "3     indus   618.607714\n",
              "4      chas    49.220803\n",
              "5       nox     3.292260\n",
              "6        rm    14.620403\n",
              "7       age  1659.128989\n",
              "8       dis   106.642659\n",
              "9       rad   879.520751\n",
              "10      tax  9441.032032\n",
              "11  ptratio    30.474467\n",
              "12    black  2440.426651"
            ]
          },
          "metadata": {
            "tags": []
          },
          "execution_count": 24
        }
      ]
    },
    {
      "cell_type": "code",
      "metadata": {
        "colab": {
          "base_uri": "https://localhost:8080/"
        },
        "id": "K6_43DG2JWso",
        "outputId": "9592db91-6f87-4f47-882f-5e8283ada840"
      },
      "source": [
        "print(featureScores.nlargest(5,'Score'))  #print 5 best features"
      ],
      "execution_count": 25,
      "outputs": [
        {
          "output_type": "stream",
          "text": [
            "    Specs        Score\n",
            "10    tax  9441.032032\n",
            "0      ID  5213.133252\n",
            "2      zn  4193.279045\n",
            "1    crim  3251.396750\n",
            "12  black  2440.426651\n"
          ],
          "name": "stdout"
        }
      ]
    },
    {
      "cell_type": "markdown",
      "metadata": {
        "id": "PSfl72FrJWso"
      },
      "source": [
        "### Feature Importance"
      ]
    },
    {
      "cell_type": "code",
      "metadata": {
        "colab": {
          "base_uri": "https://localhost:8080/"
        },
        "id": "dlsrL46NJWso",
        "outputId": "15c03442-4e28-4010-dbcc-cc01b8d41047"
      },
      "source": [
        "from sklearn.ensemble import ExtraTreesClassifier\n",
        "import matplotlib.pyplot as plt\n",
        "model = ExtraTreesClassifier()\n",
        "model.fit(X,y)"
      ],
      "execution_count": 26,
      "outputs": [
        {
          "output_type": "execute_result",
          "data": {
            "text/plain": [
              "ExtraTreesClassifier(bootstrap=False, ccp_alpha=0.0, class_weight=None,\n",
              "                     criterion='gini', max_depth=None, max_features='auto',\n",
              "                     max_leaf_nodes=None, max_samples=None,\n",
              "                     min_impurity_decrease=0.0, min_impurity_split=None,\n",
              "                     min_samples_leaf=1, min_samples_split=2,\n",
              "                     min_weight_fraction_leaf=0.0, n_estimators=100,\n",
              "                     n_jobs=None, oob_score=False, random_state=None, verbose=0,\n",
              "                     warm_start=False)"
            ]
          },
          "metadata": {
            "tags": []
          },
          "execution_count": 26
        }
      ]
    },
    {
      "cell_type": "code",
      "metadata": {
        "colab": {
          "base_uri": "https://localhost:8080/"
        },
        "id": "KtVR9dNTJWsp",
        "outputId": "5c2d5953-a2db-4808-92e1-89d5d10c3ade"
      },
      "source": [
        "print(model.feature_importances_) #use inbuilt class feature_importances of tree based classifiers"
      ],
      "execution_count": 27,
      "outputs": [
        {
          "output_type": "stream",
          "text": [
            "[0.11819978 0.12116859 0.02380958 0.03991412 0.01319199 0.07113041\n",
            " 0.14281253 0.12810798 0.11492577 0.0331491  0.04117404 0.0421575\n",
            " 0.11025862]\n"
          ],
          "name": "stdout"
        }
      ]
    },
    {
      "cell_type": "code",
      "metadata": {
        "colab": {
          "base_uri": "https://localhost:8080/",
          "height": 264
        },
        "id": "z9ezH_bDJWsp",
        "outputId": "c2dba2c7-6775-46b8-f289-c29e69d58705"
      },
      "source": [
        "#plot graph of feature importances for better visualization\n",
        "feat_importances = pd.Series(model.feature_importances_, index=X.columns)\n",
        "feat_importances.nlargest(10).plot(kind='barh')\n",
        "plt.show()"
      ],
      "execution_count": 28,
      "outputs": [
        {
          "output_type": "display_data",
          "data": {
            "image/png": "[encoded data removed]",
            "text/plain": [
              "<Figure size 432x288 with 1 Axes>"
            ]
          },
          "metadata": {
            "tags": []
          }
        }
      ]
    },
    {
      "cell_type": "markdown",
      "metadata": {
        "id": "8SNy_r85JWsp"
      },
      "source": [
        "## Model Fitting "
      ]
    },
    {
      "cell_type": "markdown",
      "metadata": {
        "id": "Pae_2tffJWsq"
      },
      "source": [
        "### Linear Regression"
      ]
    },
    {
      "cell_type": "code",
      "metadata": {
        "id": "zE5KtsWhJWsq"
      },
      "source": [
        "# Values Assigning\n",
        "X = df.iloc[:,0:13]\n",
        "y = df.iloc[:,-1]"
      ],
      "execution_count": 29,
      "outputs": []
    },
    {
      "cell_type": "code",
      "metadata": {
        "id": "6QdbZlIxJWsq"
      },
      "source": [
        "from sklearn.model_selection import train_test_split\n",
        "X_train,X_test,y_train,y_test = train_test_split(X,y,test_size=0.20,random_state=0)"
      ],
      "execution_count": 30,
      "outputs": []
    },
    {
      "cell_type": "code",
      "metadata": {
        "colab": {
          "base_uri": "https://localhost:8080/"
        },
        "id": "hJmcV-7oJWsq",
        "outputId": "3bdd817b-b9fe-4306-cf14-05a8cf94c6ed"
      },
      "source": [
        "from sklearn.linear_model import LinearRegression\n",
        "model = LinearRegression()\n",
        "model.fit(X_train,y_train)"
      ],
      "execution_count": 31,
      "outputs": [
        {
          "output_type": "execute_result",
          "data": {
            "text/plain": [
              "LinearRegression(copy_X=True, fit_intercept=True, n_jobs=None, normalize=False)"
            ]
          },
          "metadata": {
            "tags": []
          },
          "execution_count": 31
        }
      ]
    },
    {
      "cell_type": "code",
      "metadata": {
        "id": "iytVpkgSJWsq"
      },
      "source": [
        "y_pred = model.predict(X_train)"
      ],
      "execution_count": 32,
      "outputs": []
    },
    {
      "cell_type": "code",
      "metadata": {
        "colab": {
          "base_uri": "https://localhost:8080/"
        },
        "id": "iyhSVVV3JWsq",
        "outputId": "6c911e1a-7363-4344-c824-a9ed97aa2e40"
      },
      "source": [
        "print(\"Training Accuracy:\",model.score(X_train,y_train)*100)"
      ],
      "execution_count": 33,
      "outputs": [
        {
          "output_type": "stream",
          "text": [
            "Training Accuracy: 64.50830012345283\n"
          ],
          "name": "stdout"
        }
      ]
    },
    {
      "cell_type": "code",
      "metadata": {
        "colab": {
          "base_uri": "https://localhost:8080/"
        },
        "id": "Yj8i9FbZJWsr",
        "outputId": "d78b69c1-6d23-45c3-e74a-d1ebc936edfa"
      },
      "source": [
        "print(\"Testing Accuracy:\",model.score(X_test,y_test)*100)"
      ],
      "execution_count": 34,
      "outputs": [
        {
          "output_type": "stream",
          "text": [
            "Testing Accuracy: 69.59364446913949\n"
          ],
          "name": "stdout"
        }
      ]
    },
    {
      "cell_type": "code",
      "metadata": {
        "id": "s-I0tsF3JWsr"
      },
      "source": [
        "from sklearn.metrics import mean_squared_error, r2_score"
      ],
      "execution_count": 35,
      "outputs": []
    },
    {
      "cell_type": "code",
      "metadata": {
        "colab": {
          "base_uri": "https://localhost:8080/"
        },
        "id": "cTYGLAcdJWsr",
        "outputId": "cab6fc6d-ad2d-40b7-f409-d1146c8a409f"
      },
      "source": [
        "print(\"Model Accuracy:\",r2_score(y,model.predict(X))*100)"
      ],
      "execution_count": 36,
      "outputs": [
        {
          "output_type": "stream",
          "text": [
            "Model Accuracy: 65.61161377229347\n"
          ],
          "name": "stdout"
        }
      ]
    },
    {
      "cell_type": "code",
      "metadata": {
        "colab": {
          "base_uri": "https://localhost:8080/",
          "height": 294
        },
        "id": "jzu4IN0HJWsr",
        "outputId": "1a636502-4271-4f8c-f05d-f2a1fdba5698"
      },
      "source": [
        "plt.scatter(y_train, y_pred)\n",
        "plt.xlabel(\"Prices\")\n",
        "plt.ylabel(\"Predicted prices\")\n",
        "plt.title(\"Prices vs Predicted prices\")\n",
        "plt.show()"
      ],
      "execution_count": 37,
      "outputs": [
        {
          "output_type": "display_data",
          "data": {
            "image/png": "[encoded data removed]",
            "text/plain": [
              "<Figure size 432x288 with 1 Axes>"
            ]
          },
          "metadata": {
            "tags": []
          }
        }
      ]
    },
    {
      "cell_type": "code",
      "metadata": {
        "colab": {
          "base_uri": "https://localhost:8080/",
          "height": 294
        },
        "id": "YUAQTGteJWss",
        "outputId": "5afafc8f-db78-490b-ecff-79a530954171"
      },
      "source": [
        "# Checking residuals\n",
        "plt.scatter(y_pred,y_train-y_pred)\n",
        "plt.title(\"Predicted vs residuals\")\n",
        "plt.xlabel(\"Predicted\")\n",
        "plt.ylabel(\"Residuals\")\n",
        "plt.show()"
      ],
      "execution_count": 38,
      "outputs": [
        {
          "output_type": "display_data",
          "data": {
            "image/png": "[encoded data removed]",
            "text/plain": [
              "<Figure size 432x288 with 1 Axes>"
            ]
          },
          "metadata": {
            "tags": []
          }
        }
      ]
    },
    {
      "cell_type": "code",
      "metadata": {
        "colab": {
          "base_uri": "https://localhost:8080/",
          "height": 350
        },
        "id": "8jSOqAO2JWss",
        "outputId": "93d9ed81-6bf6-4915-fe52-ff5d1ec5868d"
      },
      "source": [
        "# Checking Normality of errors\n",
        "sns.distplot(y_train-y_pred)\n",
        "plt.title(\"Histogram of Residuals\")\n",
        "plt.xlabel(\"Residuals\")\n",
        "plt.ylabel(\"Frequency\")\n",
        "plt.show()"
      ],
      "execution_count": 39,
      "outputs": [
        {
          "output_type": "stream",
          "text": [
            "/usr/local/lib/python3.7/dist-packages/seaborn/distributions.py:2557: FutureWarning: `distplot` is a deprecated function and will be removed in a future version. Please adapt your code to use either `displot` (a figure-level function with similar flexibility) or `histplot` (an axes-level function for histograms).\n",
            "  warnings.warn(msg, FutureWarning)\n"
          ],
          "name": "stderr"
        },
        {
          "output_type": "display_data",
          "data": {
            "image/png": "[encoded data removed]",
            "text/plain": [
              "<Figure size 432x288 with 1 Axes>"
            ]
          },
          "metadata": {
            "tags": []
          }
        }
      ]
    },
    {
      "cell_type": "markdown",
      "metadata": {
        "id": "Sqbq_HBhJWss"
      },
      "source": [
        "## Random Forest Regressor"
      ]
    },
    {
      "cell_type": "code",
      "metadata": {
        "id": "cmFGlz7_JWss"
      },
      "source": [
        "X = df.iloc[:,[-1,5,10,4,9]]\n",
        "y = df.iloc[:,[-1]]"
      ],
      "execution_count": 40,
      "outputs": []
    },
    {
      "cell_type": "code",
      "metadata": {
        "id": "L0ndEkBWJWst"
      },
      "source": [
        "from sklearn.model_selection import train_test_split\n",
        "X_train,X_test,y_train,y_test = train_test_split(X,y,test_size=0.20,random_state=0)"
      ],
      "execution_count": 41,
      "outputs": []
    },
    {
      "cell_type": "code",
      "metadata": {
        "colab": {
          "base_uri": "https://localhost:8080/"
        },
        "id": "t3CWv1tYJWst",
        "outputId": "807cfb73-06c7-4d03-f71e-8b4817173dd8"
      },
      "source": [
        "from sklearn.ensemble import RandomForestRegressor\n",
        "reg = RandomForestRegressor()\n",
        "reg.fit(X_train,y_train)"
      ],
      "execution_count": 42,
      "outputs": [
        {
          "output_type": "stream",
          "text": [
            "/usr/local/lib/python3.7/dist-packages/ipykernel_launcher.py:3: DataConversionWarning: A column-vector y was passed when a 1d array was expected. Please change the shape of y to (n_samples,), for example using ravel().\n",
            "  This is separate from the ipykernel package so we can avoid doing imports until\n"
          ],
          "name": "stderr"
        },
        {
          "output_type": "execute_result",
          "data": {
            "text/plain": [
              "RandomForestRegressor(bootstrap=True, ccp_alpha=0.0, criterion='mse',\n",
              "                      max_depth=None, max_features='auto', max_leaf_nodes=None,\n",
              "                      max_samples=None, min_impurity_decrease=0.0,\n",
              "                      min_impurity_split=None, min_samples_leaf=1,\n",
              "                      min_samples_split=2, min_weight_fraction_leaf=0.0,\n",
              "                      n_estimators=100, n_jobs=None, oob_score=False,\n",
              "                      random_state=None, verbose=0, warm_start=False)"
            ]
          },
          "metadata": {
            "tags": []
          },
          "execution_count": 42
        }
      ]
    },
    {
      "cell_type": "code",
      "metadata": {
        "id": "48CrI4mkJWst"
      },
      "source": [
        "y_pred = reg.predict(X_train)"
      ],
      "execution_count": 43,
      "outputs": []
    },
    {
      "cell_type": "code",
      "metadata": {
        "colab": {
          "base_uri": "https://localhost:8080/"
        },
        "id": "NS91U8frJWst",
        "outputId": "b5096ff1-e645-4b03-89f9-b0df20e830ca"
      },
      "source": [
        "print(\"Training Accuracy:\",reg.score(X_train,y_train)*100)"
      ],
      "execution_count": 44,
      "outputs": [
        {
          "output_type": "stream",
          "text": [
            "Training Accuracy: 99.98870989435537\n"
          ],
          "name": "stdout"
        }
      ]
    },
    {
      "cell_type": "code",
      "metadata": {
        "colab": {
          "base_uri": "https://localhost:8080/"
        },
        "id": "uVmvTkeWJWst",
        "outputId": "e6ea66e4-be69-41cb-862b-8e41a2cbaa6b"
      },
      "source": [
        "print(\"Testing Accuracy:\",reg.score(X_test,y_test)*100)"
      ],
      "execution_count": 45,
      "outputs": [
        {
          "output_type": "stream",
          "text": [
            "Testing Accuracy: 99.88221531881003\n"
          ],
          "name": "stdout"
        }
      ]
    },
    {
      "cell_type": "code",
      "metadata": {
        "colab": {
          "base_uri": "https://localhost:8080/",
          "height": 294
        },
        "id": "4IHQTzoZJWsu",
        "outputId": "9a9905ab-8452-4da1-f13d-04859a4c4227"
      },
      "source": [
        "# Visualizing the differences between actual prices and predicted values\n",
        "plt.scatter(y_train, y_pred)\n",
        "plt.xlabel(\"Prices\")\n",
        "plt.ylabel(\"Predicted prices\")\n",
        "plt.title(\"Prices vs Predicted prices\")\n",
        "plt.show()"
      ],
      "execution_count": 46,
      "outputs": [
        {
          "output_type": "display_data",
          "data": {
            "image/png": "[encoded data removed]",
            "text/plain": [
              "<Figure size 432x288 with 1 Axes>"
            ]
          },
          "metadata": {
            "tags": []
          }
        }
      ]
    },
    {
      "cell_type": "markdown",
      "metadata": {
        "id": "nGi_5V8yJWsu"
      },
      "source": [
        "### Finally We Made it!!!\n",
        "\n",
        "#### Linear Regression\n",
        "\n",
        "**Model Score:** 73.1% Accuracy <br/>\n",
        "**Tarining Accuracy:** 72.9% Accuracy <br/>\n",
        "**Testing Accuracy:** 73.1% Accuracy\n",
        "\n",
        "#### Random Forest Regressor \n",
        "**Tarining Accuracy:** 99.9% Accuracy <br/>\n",
        "**Testing Accuracy:** 99.8% Accuracy\n",
        "\n"
      ]
    },
    {
      "cell_type": "markdown",
      "metadata": {
        "id": "E9C2_eW9J6i0"
      },
      "source": [
        "##Knn"
      ]
    },
    {
      "cell_type": "code",
      "metadata": {
        "id": "5kQG9jHpb7aY"
      },
      "source": [
        "from numba import jit\n",
        "import numpy\n",
        "import matplotlib.pyplot as pyplot\n",
        "import seaborn\n",
        "from sklearn.datasets import make_regression\n",
        "from sklearn.model_selection import train_test_split\n",
        "from sklearn.neighbors import KNeighborsRegressor"
      ],
      "execution_count": 47,
      "outputs": []
    },
    {
      "cell_type": "code",
      "metadata": {
        "id": "7VzXW0zwb-wu"
      },
      "source": [
        "%matplotlib inline\n",
        "seaborn.set_style(\"whitegrid\")"
      ],
      "execution_count": 48,
      "outputs": []
    },
    {
      "cell_type": "code",
      "metadata": {
        "id": "cOoa2V4ecCQx"
      },
      "source": [
        "def get_r_squared(max_neighbors=10, samples=100):\n",
        "    train_score = []\n",
        "    test_score = []\n",
        "    models = []\n",
        "    inputs, values = make_regression(n_samples=samples)\n",
        "    X_train, X_test, y_train, y_test = train_test_split(inputs, values)\n",
        "\n",
        "    for neighbors in range(1, max_neighbors+1):\n",
        "        model = KNeighborsRegressor(n_neighbors=neighbors, n_jobs=4)\n",
        "        model.fit(X_train, y_train)\n",
        "        train_score.append(model.score(X_train, y_train))\n",
        "        test_score.append(model.score(X_test, y_test))\n",
        "        models.append(model)\n",
        "    return train_score, test_score, models"
      ],
      "execution_count": 49,
      "outputs": []
    },
    {
      "cell_type": "code",
      "metadata": {
        "colab": {
          "base_uri": "https://localhost:8080/",
          "height": 1000
        },
        "id": "JwOjGR3GcCmI",
        "outputId": "c7b2bf25-d7a0-4713-a102-7e6afcd03f5e"
      },
      "source": [
        "def plot_r_squared(neighbors=20, samples=100):\n",
        "    train_score, test_score, models = get_r_squared(neighbors, samples)\n",
        "    neighbors = range(1, neighbors+1)\n",
        "    pyplot.plot(neighbors, train_score, label=\"Training $r^2$\")\n",
        "    pyplot.plot(neighbors, test_score, label=\"Testing $r^2$\")\n",
        "    pyplot.xlabel(\"Neighbors\")\n",
        "    pyplot.ylabel(\"$r^2$\")\n",
        "    pyplot.title(\"KNN Synthetic Data\")\n",
        "    pyplot.legend()\n",
        "    return train_score, test_score, models\n",
        "plot_r_squared()"
      ],
      "execution_count": 50,
      "outputs": [
        {
          "output_type": "execute_result",
          "data": {
            "text/plain": [
              "([1.0,\n",
              "  0.6140084359093801,\n",
              "  0.46878839673908007,\n",
              "  0.3986812637816847,\n",
              "  0.3859053674037526,\n",
              "  0.3040050023924863,\n",
              "  0.27184045916765065,\n",
              "  0.2808952272440882,\n",
              "  0.2590862510257276,\n",
              "  0.21732718748460422,\n",
              "  0.1738494405440144,\n",
              "  0.16794949018023486,\n",
              "  0.1442645783242028,\n",
              "  0.13249969296590947,\n",
              "  0.14898112400895003,\n",
              "  0.15440044667905228,\n",
              "  0.13659385470285312,\n",
              "  0.14184318246186833,\n",
              "  0.13974401364934386,\n",
              "  0.13579845063574758],\n",
              " [0.16513199670277434,\n",
              "  0.3180851592244609,\n",
              "  0.20674334570718733,\n",
              "  0.12502315243178042,\n",
              "  0.12774071405955134,\n",
              "  0.14253099560424742,\n",
              "  0.13645249769795142,\n",
              "  0.08213423581900148,\n",
              "  0.08794456018206709,\n",
              "  0.1003630682656721,\n",
              "  0.08753831812637458,\n",
              "  0.05867266772261581,\n",
              "  0.08699486700127923,\n",
              "  0.08904918600073229,\n",
              "  0.07621795005000254,\n",
              "  0.08639175091086171,\n",
              "  0.11126131287807084,\n",
              "  0.12477721417740262,\n",
              "  0.11378577110641042,\n",
              "  0.09935745093012881],\n",
              " [KNeighborsRegressor(algorithm='auto', leaf_size=30, metric='minkowski',\n",
              "                      metric_params=None, n_jobs=4, n_neighbors=1, p=2,\n",
              "                      weights='uniform'),\n",
              "  KNeighborsRegressor(algorithm='auto', leaf_size=30, metric='minkowski',\n",
              "                      metric_params=None, n_jobs=4, n_neighbors=2, p=2,\n",
              "                      weights='uniform'),\n",
              "  KNeighborsRegressor(algorithm='auto', leaf_size=30, metric='minkowski',\n",
              "                      metric_params=None, n_jobs=4, n_neighbors=3, p=2,\n",
              "                      weights='uniform'),\n",
              "  KNeighborsRegressor(algorithm='auto', leaf_size=30, metric='minkowski',\n",
              "                      metric_params=None, n_jobs=4, n_neighbors=4, p=2,\n",
              "                      weights='uniform'),\n",
              "  KNeighborsRegressor(algorithm='auto', leaf_size=30, metric='minkowski',\n",
              "                      metric_params=None, n_jobs=4, n_neighbors=5, p=2,\n",
              "                      weights='uniform'),\n",
              "  KNeighborsRegressor(algorithm='auto', leaf_size=30, metric='minkowski',\n",
              "                      metric_params=None, n_jobs=4, n_neighbors=6, p=2,\n",
              "                      weights='uniform'),\n",
              "  KNeighborsRegressor(algorithm='auto', leaf_size=30, metric='minkowski',\n",
              "                      metric_params=None, n_jobs=4, n_neighbors=7, p=2,\n",
              "                      weights='uniform'),\n",
              "  KNeighborsRegressor(algorithm='auto', leaf_size=30, metric='minkowski',\n",
              "                      metric_params=None, n_jobs=4, n_neighbors=8, p=2,\n",
              "                      weights='uniform'),\n",
              "  KNeighborsRegressor(algorithm='auto', leaf_size=30, metric='minkowski',\n",
              "                      metric_params=None, n_jobs=4, n_neighbors=9, p=2,\n",
              "                      weights='uniform'),\n",
              "  KNeighborsRegressor(algorithm='auto', leaf_size=30, metric='minkowski',\n",
              "                      metric_params=None, n_jobs=4, n_neighbors=10, p=2,\n",
              "                      weights='uniform'),\n",
              "  KNeighborsRegressor(algorithm='auto', leaf_size=30, metric='minkowski',\n",
              "                      metric_params=None, n_jobs=4, n_neighbors=11, p=2,\n",
              "                      weights='uniform'),\n",
              "  KNeighborsRegressor(algorithm='auto', leaf_size=30, metric='minkowski',\n",
              "                      metric_params=None, n_jobs=4, n_neighbors=12, p=2,\n",
              "                      weights='uniform'),\n",
              "  KNeighborsRegressor(algorithm='auto', leaf_size=30, metric='minkowski',\n",
              "                      metric_params=None, n_jobs=4, n_neighbors=13, p=2,\n",
              "                      weights='uniform'),\n",
              "  KNeighborsRegressor(algorithm='auto', leaf_size=30, metric='minkowski',\n",
              "                      metric_params=None, n_jobs=4, n_neighbors=14, p=2,\n",
              "                      weights='uniform'),\n",
              "  KNeighborsRegressor(algorithm='auto', leaf_size=30, metric='minkowski',\n",
              "                      metric_params=None, n_jobs=4, n_neighbors=15, p=2,\n",
              "                      weights='uniform'),\n",
              "  KNeighborsRegressor(algorithm='auto', leaf_size=30, metric='minkowski',\n",
              "                      metric_params=None, n_jobs=4, n_neighbors=16, p=2,\n",
              "                      weights='uniform'),\n",
              "  KNeighborsRegressor(algorithm='auto', leaf_size=30, metric='minkowski',\n",
              "                      metric_params=None, n_jobs=4, n_neighbors=17, p=2,\n",
              "                      weights='uniform'),\n",
              "  KNeighborsRegressor(algorithm='auto', leaf_size=30, metric='minkowski',\n",
              "                      metric_params=None, n_jobs=4, n_neighbors=18, p=2,\n",
              "                      weights='uniform'),\n",
              "  KNeighborsRegressor(algorithm='auto', leaf_size=30, metric='minkowski',\n",
              "                      metric_params=None, n_jobs=4, n_neighbors=19, p=2,\n",
              "                      weights='uniform'),\n",
              "  KNeighborsRegressor(algorithm='auto', leaf_size=30, metric='minkowski',\n",
              "                      metric_params=None, n_jobs=4, n_neighbors=20, p=2,\n",
              "                      weights='uniform')])"
            ]
          },
          "metadata": {
            "tags": []
          },
          "execution_count": 50
        },
        {
          "output_type": "display_data",
          "data": {
            "image/png": "[encoded data removed]",
            "text/plain": [
              "<Figure size 432x288 with 1 Axes>"
            ]
          },
          "metadata": {
            "tags": []
          }
        }
      ]
    },
    {
      "cell_type": "code",
      "metadata": {
        "colab": {
          "base_uri": "https://localhost:8080/",
          "height": 1000
        },
        "id": "vqOXcwaxcCuC",
        "outputId": "b72310a7-2f2b-41d8-f58d-83a3280fe389"
      },
      "source": [
        "plot_r_squared(samples=1000)"
      ],
      "execution_count": 51,
      "outputs": [
        {
          "output_type": "execute_result",
          "data": {
            "text/plain": [
              "([1.0,\n",
              "  0.6623865858943234,\n",
              "  0.5574637139820752,\n",
              "  0.5159038020152331,\n",
              "  0.4858011873641232,\n",
              "  0.46656420159716,\n",
              "  0.4408109932590039,\n",
              "  0.426785366664961,\n",
              "  0.4135723931156854,\n",
              "  0.39942999078291536,\n",
              "  0.4004640715810671,\n",
              "  0.39286613546961524,\n",
              "  0.3925910037491675,\n",
              "  0.3860980680967889,\n",
              "  0.3840728820410672,\n",
              "  0.38143490562495097,\n",
              "  0.3778462998238944,\n",
              "  0.37000692443655075,\n",
              "  0.3723173041287908,\n",
              "  0.37031923304377523],\n",
              " [-0.254587692419312,\n",
              "  0.05620791573292028,\n",
              "  0.16021724819323102,\n",
              "  0.2012031917121101,\n",
              "  0.26944913432918904,\n",
              "  0.2514240769720065,\n",
              "  0.2656176196980987,\n",
              "  0.2810590800359207,\n",
              "  0.2964039639234527,\n",
              "  0.29023579227734697,\n",
              "  0.2986869365209788,\n",
              "  0.3075491815955703,\n",
              "  0.3058456798467988,\n",
              "  0.29824979964981013,\n",
              "  0.3112496092181374,\n",
              "  0.30721947132905014,\n",
              "  0.3149565943863307,\n",
              "  0.3238588939473912,\n",
              "  0.32335858808164497,\n",
              "  0.31636364855295784],\n",
              " [KNeighborsRegressor(algorithm='auto', leaf_size=30, metric='minkowski',\n",
              "                      metric_params=None, n_jobs=4, n_neighbors=1, p=2,\n",
              "                      weights='uniform'),\n",
              "  KNeighborsRegressor(algorithm='auto', leaf_size=30, metric='minkowski',\n",
              "                      metric_params=None, n_jobs=4, n_neighbors=2, p=2,\n",
              "                      weights='uniform'),\n",
              "  KNeighborsRegressor(algorithm='auto', leaf_size=30, metric='minkowski',\n",
              "                      metric_params=None, n_jobs=4, n_neighbors=3, p=2,\n",
              "                      weights='uniform'),\n",
              "  KNeighborsRegressor(algorithm='auto', leaf_size=30, metric='minkowski',\n",
              "                      metric_params=None, n_jobs=4, n_neighbors=4, p=2,\n",
              "                      weights='uniform'),\n",
              "  KNeighborsRegressor(algorithm='auto', leaf_size=30, metric='minkowski',\n",
              "                      metric_params=None, n_jobs=4, n_neighbors=5, p=2,\n",
              "                      weights='uniform'),\n",
              "  KNeighborsRegressor(algorithm='auto', leaf_size=30, metric='minkowski',\n",
              "                      metric_params=None, n_jobs=4, n_neighbors=6, p=2,\n",
              "                      weights='uniform'),\n",
              "  KNeighborsRegressor(algorithm='auto', leaf_size=30, metric='minkowski',\n",
              "                      metric_params=None, n_jobs=4, n_neighbors=7, p=2,\n",
              "                      weights='uniform'),\n",
              "  KNeighborsRegressor(algorithm='auto', leaf_size=30, metric='minkowski',\n",
              "                      metric_params=None, n_jobs=4, n_neighbors=8, p=2,\n",
              "                      weights='uniform'),\n",
              "  KNeighborsRegressor(algorithm='auto', leaf_size=30, metric='minkowski',\n",
              "                      metric_params=None, n_jobs=4, n_neighbors=9, p=2,\n",
              "                      weights='uniform'),\n",
              "  KNeighborsRegressor(algorithm='auto', leaf_size=30, metric='minkowski',\n",
              "                      metric_params=None, n_jobs=4, n_neighbors=10, p=2,\n",
              "                      weights='uniform'),\n",
              "  KNeighborsRegressor(algorithm='auto', leaf_size=30, metric='minkowski',\n",
              "                      metric_params=None, n_jobs=4, n_neighbors=11, p=2,\n",
              "                      weights='uniform'),\n",
              "  KNeighborsRegressor(algorithm='auto', leaf_size=30, metric='minkowski',\n",
              "                      metric_params=None, n_jobs=4, n_neighbors=12, p=2,\n",
              "                      weights='uniform'),\n",
              "  KNeighborsRegressor(algorithm='auto', leaf_size=30, metric='minkowski',\n",
              "                      metric_params=None, n_jobs=4, n_neighbors=13, p=2,\n",
              "                      weights='uniform'),\n",
              "  KNeighborsRegressor(algorithm='auto', leaf_size=30, metric='minkowski',\n",
              "                      metric_params=None, n_jobs=4, n_neighbors=14, p=2,\n",
              "                      weights='uniform'),\n",
              "  KNeighborsRegressor(algorithm='auto', leaf_size=30, metric='minkowski',\n",
              "                      metric_params=None, n_jobs=4, n_neighbors=15, p=2,\n",
              "                      weights='uniform'),\n",
              "  KNeighborsRegressor(algorithm='auto', leaf_size=30, metric='minkowski',\n",
              "                      metric_params=None, n_jobs=4, n_neighbors=16, p=2,\n",
              "                      weights='uniform'),\n",
              "  KNeighborsRegressor(algorithm='auto', leaf_size=30, metric='minkowski',\n",
              "                      metric_params=None, n_jobs=4, n_neighbors=17, p=2,\n",
              "                      weights='uniform'),\n",
              "  KNeighborsRegressor(algorithm='auto', leaf_size=30, metric='minkowski',\n",
              "                      metric_params=None, n_jobs=4, n_neighbors=18, p=2,\n",
              "                      weights='uniform'),\n",
              "  KNeighborsRegressor(algorithm='auto', leaf_size=30, metric='minkowski',\n",
              "                      metric_params=None, n_jobs=4, n_neighbors=19, p=2,\n",
              "                      weights='uniform'),\n",
              "  KNeighborsRegressor(algorithm='auto', leaf_size=30, metric='minkowski',\n",
              "                      metric_params=None, n_jobs=4, n_neighbors=20, p=2,\n",
              "                      weights='uniform')])"
            ]
          },
          "metadata": {
            "tags": []
          },
          "execution_count": 51
        },
        {
          "output_type": "display_data",
          "data": {
            "image/png": "[encoded data removed]",
            "text/plain": [
              "<Figure size 432x288 with 1 Axes>"
            ]
          },
          "metadata": {
            "tags": []
          }
        }
      ]
    },
    {
      "cell_type": "code",
      "metadata": {
        "colab": {
          "base_uri": "https://localhost:8080/",
          "height": 1000
        },
        "id": "OJvujrh3cDG1",
        "outputId": "f393c731-cd3c-4cd3-aad5-b8ff636f8c64"
      },
      "source": [
        "plot_r_squared(neighbors=100, samples=1000)"
      ],
      "execution_count": 52,
      "outputs": [
        {
          "output_type": "execute_result",
          "data": {
            "text/plain": [
              "([1.0,\n",
              "  0.6601471475298211,\n",
              "  0.5693091681617264,\n",
              "  0.5245104283795177,\n",
              "  0.48361489944024,\n",
              "  0.461944231977934,\n",
              "  0.43954670900292814,\n",
              "  0.42357783326803466,\n",
              "  0.41928701863805706,\n",
              "  0.42509156048007335,\n",
              "  0.41823447937118186,\n",
              "  0.409149611683724,\n",
              "  0.4032802350357272,\n",
              "  0.4017217913183839,\n",
              "  0.3944184169941246,\n",
              "  0.3890051306507154,\n",
              "  0.3803627194248792,\n",
              "  0.37428777439090355,\n",
              "  0.36801907853260796,\n",
              "  0.3635597942427994,\n",
              "  0.359966887329894,\n",
              "  0.35936955470210974,\n",
              "  0.3566669184769703,\n",
              "  0.35527894966753637,\n",
              "  0.3514482456911756,\n",
              "  0.3470060620440957,\n",
              "  0.34457178653835885,\n",
              "  0.34256186280220835,\n",
              "  0.33904624319582566,\n",
              "  0.3368628253340257,\n",
              "  0.33731574505275663,\n",
              "  0.3330616523686273,\n",
              "  0.33225151973478584,\n",
              "  0.3288192329413683,\n",
              "  0.3286065275371314,\n",
              "  0.3273115747001202,\n",
              "  0.32560103841526233,\n",
              "  0.32478198072691533,\n",
              "  0.32045230104274935,\n",
              "  0.31792478404616076,\n",
              "  0.3155089239678619,\n",
              "  0.313814966497307,\n",
              "  0.31201765445677065,\n",
              "  0.30950141436968903,\n",
              "  0.3095014887745189,\n",
              "  0.3085991271114632,\n",
              "  0.30874989941659103,\n",
              "  0.3050668073255055,\n",
              "  0.30557629319414714,\n",
              "  0.3026121600784103,\n",
              "  0.30038794260947077,\n",
              "  0.2993886418318371,\n",
              "  0.29901892044677725,\n",
              "  0.29755846785468076,\n",
              "  0.2961471330948876,\n",
              "  0.29550145007341155,\n",
              "  0.29326323062189863,\n",
              "  0.29386530380458575,\n",
              "  0.2917129669880424,\n",
              "  0.2906831144145453,\n",
              "  0.2907092429818485,\n",
              "  0.28952576607330494,\n",
              "  0.2880061417985833,\n",
              "  0.28647686495959923,\n",
              "  0.2846855766042481,\n",
              "  0.28366802173302097,\n",
              "  0.28269363010842996,\n",
              "  0.28112080041542564,\n",
              "  0.2803194600461929,\n",
              "  0.2803157635337462,\n",
              "  0.2799896679588243,\n",
              "  0.2780114202689462,\n",
              "  0.27664143636547633,\n",
              "  0.2766329089323065,\n",
              "  0.27575971161221935,\n",
              "  0.27370964044647683,\n",
              "  0.2736345193886055,\n",
              "  0.2725904811354317,\n",
              "  0.2709186019414903,\n",
              "  0.26966949833522935,\n",
              "  0.267732349821027,\n",
              "  0.26558439616549,\n",
              "  0.26582722608742826,\n",
              "  0.2648616499239037,\n",
              "  0.26282908780270686,\n",
              "  0.2614775389772782,\n",
              "  0.26148479325707874,\n",
              "  0.26095525613528325,\n",
              "  0.25972543152169314,\n",
              "  0.2599783406858742,\n",
              "  0.2599970464187894,\n",
              "  0.26000093820134096,\n",
              "  0.2596741433524631,\n",
              "  0.25708615366466214,\n",
              "  0.25542618037114484,\n",
              "  0.2545717717906151,\n",
              "  0.25399147697938174,\n",
              "  0.2518526471960142,\n",
              "  0.25053671329620586,\n",
              "  0.25054223138381004],\n",
              " [-0.28993484956056115,\n",
              "  0.06311152108595675,\n",
              "  0.13155114331896656,\n",
              "  0.18558767142259913,\n",
              "  0.18582865368656798,\n",
              "  0.22434503335613865,\n",
              "  0.22955137037551085,\n",
              "  0.22960917955935556,\n",
              "  0.22722855392098706,\n",
              "  0.22946017768737878,\n",
              "  0.22553958532495044,\n",
              "  0.23345550397690107,\n",
              "  0.21902434800251255,\n",
              "  0.22492352867582233,\n",
              "  0.22493049813590527,\n",
              "  0.22408338406197914,\n",
              "  0.23359374662495613,\n",
              "  0.24269061387055257,\n",
              "  0.2422591035763877,\n",
              "  0.2377367307047491,\n",
              "  0.22826508882479546,\n",
              "  0.2256760692271288,\n",
              "  0.22781416836676593,\n",
              "  0.2291570537224552,\n",
              "  0.22597493353562312,\n",
              "  0.227278866296865,\n",
              "  0.2275686387392599,\n",
              "  0.2269788345580277,\n",
              "  0.227474236109788,\n",
              "  0.23192696740639562,\n",
              "  0.2252792750877921,\n",
              "  0.2261816717918601,\n",
              "  0.22345369878084032,\n",
              "  0.22053515758665,\n",
              "  0.2193066080612731,\n",
              "  0.21770005652203706,\n",
              "  0.22143785201134925,\n",
              "  0.2221448411661151,\n",
              "  0.22101167090971144,\n",
              "  0.21916353508392616,\n",
              "  0.21709986819775595,\n",
              "  0.21824918291198425,\n",
              "  0.2166818599346707,\n",
              "  0.2181706520706581,\n",
              "  0.21864705616957616,\n",
              "  0.21666556574124174,\n",
              "  0.21667285650172097,\n",
              "  0.21547624235795704,\n",
              "  0.21938993404722684,\n",
              "  0.21955973233612214,\n",
              "  0.2189469678081266,\n",
              "  0.22087805425394824,\n",
              "  0.21973854071535392,\n",
              "  0.22036791634027408,\n",
              "  0.21944892288476348,\n",
              "  0.22012321527126,\n",
              "  0.22178539597907576,\n",
              "  0.21799139960183112,\n",
              "  0.2216124550368278,\n",
              "  0.22247482164515653,\n",
              "  0.2231787465177425,\n",
              "  0.22041478417298066,\n",
              "  0.21959323722004,\n",
              "  0.2182042470265816,\n",
              "  0.2168642532183679,\n",
              "  0.21585850432791095,\n",
              "  0.21450320153178357,\n",
              "  0.21510409751444748,\n",
              "  0.21245047409116172,\n",
              "  0.21199882959427285,\n",
              "  0.2083107098455802,\n",
              "  0.20896378061414933,\n",
              "  0.20922238258323275,\n",
              "  0.21023632373649845,\n",
              "  0.20955471991494135,\n",
              "  0.2097423057706804,\n",
              "  0.20973779109452784,\n",
              "  0.21013151143235842,\n",
              "  0.20971160444871872,\n",
              "  0.2112065718150559,\n",
              "  0.2125572870061201,\n",
              "  0.21171199540785968,\n",
              "  0.21222639336182514,\n",
              "  0.21174478235983404,\n",
              "  0.2125145432096579,\n",
              "  0.21271758579476094,\n",
              "  0.2115533265215841,\n",
              "  0.210334432055492,\n",
              "  0.20937126098261585,\n",
              "  0.20941702171364251,\n",
              "  0.20741025351698095,\n",
              "  0.2082583001338203,\n",
              "  0.2089131234875068,\n",
              "  0.21021369573187976,\n",
              "  0.21104906109039434,\n",
              "  0.21251845236889821,\n",
              "  0.21276342626207456,\n",
              "  0.21214262843532802,\n",
              "  0.21221340718519324,\n",
              "  0.2110376690518182],\n",
              " [KNeighborsRegressor(algorithm='auto', leaf_size=30, metric='minkowski',\n",
              "                      metric_params=None, n_jobs=4, n_neighbors=1, p=2,\n",
              "                      weights='uniform'),\n",
              "  KNeighborsRegressor(algorithm='auto', leaf_size=30, metric='minkowski',\n",
              "                      metric_params=None, n_jobs=4, n_neighbors=2, p=2,\n",
              "                      weights='uniform'),\n",
              "  KNeighborsRegressor(algorithm='auto', leaf_size=30, metric='minkowski',\n",
              "                      metric_params=None, n_jobs=4, n_neighbors=3, p=2,\n",
              "                      weights='uniform'),\n",
              "  KNeighborsRegressor(algorithm='auto', leaf_size=30, metric='minkowski',\n",
              "                      metric_params=None, n_jobs=4, n_neighbors=4, p=2,\n",
              "                      weights='uniform'),\n",
              "  KNeighborsRegressor(algorithm='auto', leaf_size=30, metric='minkowski',\n",
              "                      metric_params=None, n_jobs=4, n_neighbors=5, p=2,\n",
              "                      weights='uniform'),\n",
              "  KNeighborsRegressor(algorithm='auto', leaf_size=30, metric='minkowski',\n",
              "                      metric_params=None, n_jobs=4, n_neighbors=6, p=2,\n",
              "                      weights='uniform'),\n",
              "  KNeighborsRegressor(algorithm='auto', leaf_size=30, metric='minkowski',\n",
              "                      metric_params=None, n_jobs=4, n_neighbors=7, p=2,\n",
              "                      weights='uniform'),\n",
              "  KNeighborsRegressor(algorithm='auto', leaf_size=30, metric='minkowski',\n",
              "                      metric_params=None, n_jobs=4, n_neighbors=8, p=2,\n",
              "                      weights='uniform'),\n",
              "  KNeighborsRegressor(algorithm='auto', leaf_size=30, metric='minkowski',\n",
              "                      metric_params=None, n_jobs=4, n_neighbors=9, p=2,\n",
              "                      weights='uniform'),\n",
              "  KNeighborsRegressor(algorithm='auto', leaf_size=30, metric='minkowski',\n",
              "                      metric_params=None, n_jobs=4, n_neighbors=10, p=2,\n",
              "                      weights='uniform'),\n",
              "  KNeighborsRegressor(algorithm='auto', leaf_size=30, metric='minkowski',\n",
              "                      metric_params=None, n_jobs=4, n_neighbors=11, p=2,\n",
              "                      weights='uniform'),\n",
              "  KNeighborsRegressor(algorithm='auto', leaf_size=30, metric='minkowski',\n",
              "                      metric_params=None, n_jobs=4, n_neighbors=12, p=2,\n",
              "                      weights='uniform'),\n",
              "  KNeighborsRegressor(algorithm='auto', leaf_size=30, metric='minkowski',\n",
              "                      metric_params=None, n_jobs=4, n_neighbors=13, p=2,\n",
              "                      weights='uniform'),\n",
              "  KNeighborsRegressor(algorithm='auto', leaf_size=30, metric='minkowski',\n",
              "                      metric_params=None, n_jobs=4, n_neighbors=14, p=2,\n",
              "                      weights='uniform'),\n",
              "  KNeighborsRegressor(algorithm='auto', leaf_size=30, metric='minkowski',\n",
              "                      metric_params=None, n_jobs=4, n_neighbors=15, p=2,\n",
              "                      weights='uniform'),\n",
              "  KNeighborsRegressor(algorithm='auto', leaf_size=30, metric='minkowski',\n",
              "                      metric_params=None, n_jobs=4, n_neighbors=16, p=2,\n",
              "                      weights='uniform'),\n",
              "  KNeighborsRegressor(algorithm='auto', leaf_size=30, metric='minkowski',\n",
              "                      metric_params=None, n_jobs=4, n_neighbors=17, p=2,\n",
              "                      weights='uniform'),\n",
              "  KNeighborsRegressor(algorithm='auto', leaf_size=30, metric='minkowski',\n",
              "                      metric_params=None, n_jobs=4, n_neighbors=18, p=2,\n",
              "                      weights='uniform'),\n",
              "  KNeighborsRegressor(algorithm='auto', leaf_size=30, metric='minkowski',\n",
              "                      metric_params=None, n_jobs=4, n_neighbors=19, p=2,\n",
              "                      weights='uniform'),\n",
              "  KNeighborsRegressor(algorithm='auto', leaf_size=30, metric='minkowski',\n",
              "                      metric_params=None, n_jobs=4, n_neighbors=20, p=2,\n",
              "                      weights='uniform'),\n",
              "  KNeighborsRegressor(algorithm='auto', leaf_size=30, metric='minkowski',\n",
              "                      metric_params=None, n_jobs=4, n_neighbors=21, p=2,\n",
              "                      weights='uniform'),\n",
              "  KNeighborsRegressor(algorithm='auto', leaf_size=30, metric='minkowski',\n",
              "                      metric_params=None, n_jobs=4, n_neighbors=22, p=2,\n",
              "                      weights='uniform'),\n",
              "  KNeighborsRegressor(algorithm='auto', leaf_size=30, metric='minkowski',\n",
              "                      metric_params=None, n_jobs=4, n_neighbors=23, p=2,\n",
              "                      weights='uniform'),\n",
              "  KNeighborsRegressor(algorithm='auto', leaf_size=30, metric='minkowski',\n",
              "                      metric_params=None, n_jobs=4, n_neighbors=24, p=2,\n",
              "                      weights='uniform'),\n",
              "  KNeighborsRegressor(algorithm='auto', leaf_size=30, metric='minkowski',\n",
              "                      metric_params=None, n_jobs=4, n_neighbors=25, p=2,\n",
              "                      weights='uniform'),\n",
              "  KNeighborsRegressor(algorithm='auto', leaf_size=30, metric='minkowski',\n",
              "                      metric_params=None, n_jobs=4, n_neighbors=26, p=2,\n",
              "                      weights='uniform'),\n",
              "  KNeighborsRegressor(algorithm='auto', leaf_size=30, metric='minkowski',\n",
              "                      metric_params=None, n_jobs=4, n_neighbors=27, p=2,\n",
              "                      weights='uniform'),\n",
              "  KNeighborsRegressor(algorithm='auto', leaf_size=30, metric='minkowski',\n",
              "                      metric_params=None, n_jobs=4, n_neighbors=28, p=2,\n",
              "                      weights='uniform'),\n",
              "  KNeighborsRegressor(algorithm='auto', leaf_size=30, metric='minkowski',\n",
              "                      metric_params=None, n_jobs=4, n_neighbors=29, p=2,\n",
              "                      weights='uniform'),\n",
              "  KNeighborsRegressor(algorithm='auto', leaf_size=30, metric='minkowski',\n",
              "                      metric_params=None, n_jobs=4, n_neighbors=30, p=2,\n",
              "                      weights='uniform'),\n",
              "  KNeighborsRegressor(algorithm='auto', leaf_size=30, metric='minkowski',\n",
              "                      metric_params=None, n_jobs=4, n_neighbors=31, p=2,\n",
              "                      weights='uniform'),\n",
              "  KNeighborsRegressor(algorithm='auto', leaf_size=30, metric='minkowski',\n",
              "                      metric_params=None, n_jobs=4, n_neighbors=32, p=2,\n",
              "                      weights='uniform'),\n",
              "  KNeighborsRegressor(algorithm='auto', leaf_size=30, metric='minkowski',\n",
              "                      metric_params=None, n_jobs=4, n_neighbors=33, p=2,\n",
              "                      weights='uniform'),\n",
              "  KNeighborsRegressor(algorithm='auto', leaf_size=30, metric='minkowski',\n",
              "                      metric_params=None, n_jobs=4, n_neighbors=34, p=2,\n",
              "                      weights='uniform'),\n",
              "  KNeighborsRegressor(algorithm='auto', leaf_size=30, metric='minkowski',\n",
              "                      metric_params=None, n_jobs=4, n_neighbors=35, p=2,\n",
              "                      weights='uniform'),\n",
              "  KNeighborsRegressor(algorithm='auto', leaf_size=30, metric='minkowski',\n",
              "                      metric_params=None, n_jobs=4, n_neighbors=36, p=2,\n",
              "                      weights='uniform'),\n",
              "  KNeighborsRegressor(algorithm='auto', leaf_size=30, metric='minkowski',\n",
              "                      metric_params=None, n_jobs=4, n_neighbors=37, p=2,\n",
              "                      weights='uniform'),\n",
              "  KNeighborsRegressor(algorithm='auto', leaf_size=30, metric='minkowski',\n",
              "                      metric_params=None, n_jobs=4, n_neighbors=38, p=2,\n",
              "                      weights='uniform'),\n",
              "  KNeighborsRegressor(algorithm='auto', leaf_size=30, metric='minkowski',\n",
              "                      metric_params=None, n_jobs=4, n_neighbors=39, p=2,\n",
              "                      weights='uniform'),\n",
              "  KNeighborsRegressor(algorithm='auto', leaf_size=30, metric='minkowski',\n",
              "                      metric_params=None, n_jobs=4, n_neighbors=40, p=2,\n",
              "                      weights='uniform'),\n",
              "  KNeighborsRegressor(algorithm='auto', leaf_size=30, metric='minkowski',\n",
              "                      metric_params=None, n_jobs=4, n_neighbors=41, p=2,\n",
              "                      weights='uniform'),\n",
              "  KNeighborsRegressor(algorithm='auto', leaf_size=30, metric='minkowski',\n",
              "                      metric_params=None, n_jobs=4, n_neighbors=42, p=2,\n",
              "                      weights='uniform'),\n",
              "  KNeighborsRegressor(algorithm='auto', leaf_size=30, metric='minkowski',\n",
              "                      metric_params=None, n_jobs=4, n_neighbors=43, p=2,\n",
              "                      weights='uniform'),\n",
              "  KNeighborsRegressor(algorithm='auto', leaf_size=30, metric='minkowski',\n",
              "                      metric_params=None, n_jobs=4, n_neighbors=44, p=2,\n",
              "                      weights='uniform'),\n",
              "  KNeighborsRegressor(algorithm='auto', leaf_size=30, metric='minkowski',\n",
              "                      metric_params=None, n_jobs=4, n_neighbors=45, p=2,\n",
              "                      weights='uniform'),\n",
              "  KNeighborsRegressor(algorithm='auto', leaf_size=30, metric='minkowski',\n",
              "                      metric_params=None, n_jobs=4, n_neighbors=46, p=2,\n",
              "                      weights='uniform'),\n",
              "  KNeighborsRegressor(algorithm='auto', leaf_size=30, metric='minkowski',\n",
              "                      metric_params=None, n_jobs=4, n_neighbors=47, p=2,\n",
              "                      weights='uniform'),\n",
              "  KNeighborsRegressor(algorithm='auto', leaf_size=30, metric='minkowski',\n",
              "                      metric_params=None, n_jobs=4, n_neighbors=48, p=2,\n",
              "                      weights='uniform'),\n",
              "  KNeighborsRegressor(algorithm='auto', leaf_size=30, metric='minkowski',\n",
              "                      metric_params=None, n_jobs=4, n_neighbors=49, p=2,\n",
              "                      weights='uniform'),\n",
              "  KNeighborsRegressor(algorithm='auto', leaf_size=30, metric='minkowski',\n",
              "                      metric_params=None, n_jobs=4, n_neighbors=50, p=2,\n",
              "                      weights='uniform'),\n",
              "  KNeighborsRegressor(algorithm='auto', leaf_size=30, metric='minkowski',\n",
              "                      metric_params=None, n_jobs=4, n_neighbors=51, p=2,\n",
              "                      weights='uniform'),\n",
              "  KNeighborsRegressor(algorithm='auto', leaf_size=30, metric='minkowski',\n",
              "                      metric_params=None, n_jobs=4, n_neighbors=52, p=2,\n",
              "                      weights='uniform'),\n",
              "  KNeighborsRegressor(algorithm='auto', leaf_size=30, metric='minkowski',\n",
              "                      metric_params=None, n_jobs=4, n_neighbors=53, p=2,\n",
              "                      weights='uniform'),\n",
              "  KNeighborsRegressor(algorithm='auto', leaf_size=30, metric='minkowski',\n",
              "                      metric_params=None, n_jobs=4, n_neighbors=54, p=2,\n",
              "                      weights='uniform'),\n",
              "  KNeighborsRegressor(algorithm='auto', leaf_size=30, metric='minkowski',\n",
              "                      metric_params=None, n_jobs=4, n_neighbors=55, p=2,\n",
              "                      weights='uniform'),\n",
              "  KNeighborsRegressor(algorithm='auto', leaf_size=30, metric='minkowski',\n",
              "                      metric_params=None, n_jobs=4, n_neighbors=56, p=2,\n",
              "                      weights='uniform'),\n",
              "  KNeighborsRegressor(algorithm='auto', leaf_size=30, metric='minkowski',\n",
              "                      metric_params=None, n_jobs=4, n_neighbors=57, p=2,\n",
              "                      weights='uniform'),\n",
              "  KNeighborsRegressor(algorithm='auto', leaf_size=30, metric='minkowski',\n",
              "                      metric_params=None, n_jobs=4, n_neighbors=58, p=2,\n",
              "                      weights='uniform'),\n",
              "  KNeighborsRegressor(algorithm='auto', leaf_size=30, metric='minkowski',\n",
              "                      metric_params=None, n_jobs=4, n_neighbors=59, p=2,\n",
              "                      weights='uniform'),\n",
              "  KNeighborsRegressor(algorithm='auto', leaf_size=30, metric='minkowski',\n",
              "                      metric_params=None, n_jobs=4, n_neighbors=60, p=2,\n",
              "                      weights='uniform'),\n",
              "  KNeighborsRegressor(algorithm='auto', leaf_size=30, metric='minkowski',\n",
              "                      metric_params=None, n_jobs=4, n_neighbors=61, p=2,\n",
              "                      weights='uniform'),\n",
              "  KNeighborsRegressor(algorithm='auto', leaf_size=30, metric='minkowski',\n",
              "                      metric_params=None, n_jobs=4, n_neighbors=62, p=2,\n",
              "                      weights='uniform'),\n",
              "  KNeighborsRegressor(algorithm='auto', leaf_size=30, metric='minkowski',\n",
              "                      metric_params=None, n_jobs=4, n_neighbors=63, p=2,\n",
              "                      weights='uniform'),\n",
              "  KNeighborsRegressor(algorithm='auto', leaf_size=30, metric='minkowski',\n",
              "                      metric_params=None, n_jobs=4, n_neighbors=64, p=2,\n",
              "                      weights='uniform'),\n",
              "  KNeighborsRegressor(algorithm='auto', leaf_size=30, metric='minkowski',\n",
              "                      metric_params=None, n_jobs=4, n_neighbors=65, p=2,\n",
              "                      weights='uniform'),\n",
              "  KNeighborsRegressor(algorithm='auto', leaf_size=30, metric='minkowski',\n",
              "                      metric_params=None, n_jobs=4, n_neighbors=66, p=2,\n",
              "                      weights='uniform'),\n",
              "  KNeighborsRegressor(algorithm='auto', leaf_size=30, metric='minkowski',\n",
              "                      metric_params=None, n_jobs=4, n_neighbors=67, p=2,\n",
              "                      weights='uniform'),\n",
              "  KNeighborsRegressor(algorithm='auto', leaf_size=30, metric='minkowski',\n",
              "                      metric_params=None, n_jobs=4, n_neighbors=68, p=2,\n",
              "                      weights='uniform'),\n",
              "  KNeighborsRegressor(algorithm='auto', leaf_size=30, metric='minkowski',\n",
              "                      metric_params=None, n_jobs=4, n_neighbors=69, p=2,\n",
              "                      weights='uniform'),\n",
              "  KNeighborsRegressor(algorithm='auto', leaf_size=30, metric='minkowski',\n",
              "                      metric_params=None, n_jobs=4, n_neighbors=70, p=2,\n",
              "                      weights='uniform'),\n",
              "  KNeighborsRegressor(algorithm='auto', leaf_size=30, metric='minkowski',\n",
              "                      metric_params=None, n_jobs=4, n_neighbors=71, p=2,\n",
              "                      weights='uniform'),\n",
              "  KNeighborsRegressor(algorithm='auto', leaf_size=30, metric='minkowski',\n",
              "                      metric_params=None, n_jobs=4, n_neighbors=72, p=2,\n",
              "                      weights='uniform'),\n",
              "  KNeighborsRegressor(algorithm='auto', leaf_size=30, metric='minkowski',\n",
              "                      metric_params=None, n_jobs=4, n_neighbors=73, p=2,\n",
              "                      weights='uniform'),\n",
              "  KNeighborsRegressor(algorithm='auto', leaf_size=30, metric='minkowski',\n",
              "                      metric_params=None, n_jobs=4, n_neighbors=74, p=2,\n",
              "                      weights='uniform'),\n",
              "  KNeighborsRegressor(algorithm='auto', leaf_size=30, metric='minkowski',\n",
              "                      metric_params=None, n_jobs=4, n_neighbors=75, p=2,\n",
              "                      weights='uniform'),\n",
              "  KNeighborsRegressor(algorithm='auto', leaf_size=30, metric='minkowski',\n",
              "                      metric_params=None, n_jobs=4, n_neighbors=76, p=2,\n",
              "                      weights='uniform'),\n",
              "  KNeighborsRegressor(algorithm='auto', leaf_size=30, metric='minkowski',\n",
              "                      metric_params=None, n_jobs=4, n_neighbors=77, p=2,\n",
              "                      weights='uniform'),\n",
              "  KNeighborsRegressor(algorithm='auto', leaf_size=30, metric='minkowski',\n",
              "                      metric_params=None, n_jobs=4, n_neighbors=78, p=2,\n",
              "                      weights='uniform'),\n",
              "  KNeighborsRegressor(algorithm='auto', leaf_size=30, metric='minkowski',\n",
              "                      metric_params=None, n_jobs=4, n_neighbors=79, p=2,\n",
              "                      weights='uniform'),\n",
              "  KNeighborsRegressor(algorithm='auto', leaf_size=30, metric='minkowski',\n",
              "                      metric_params=None, n_jobs=4, n_neighbors=80, p=2,\n",
              "                      weights='uniform'),\n",
              "  KNeighborsRegressor(algorithm='auto', leaf_size=30, metric='minkowski',\n",
              "                      metric_params=None, n_jobs=4, n_neighbors=81, p=2,\n",
              "                      weights='uniform'),\n",
              "  KNeighborsRegressor(algorithm='auto', leaf_size=30, metric='minkowski',\n",
              "                      metric_params=None, n_jobs=4, n_neighbors=82, p=2,\n",
              "                      weights='uniform'),\n",
              "  KNeighborsRegressor(algorithm='auto', leaf_size=30, metric='minkowski',\n",
              "                      metric_params=None, n_jobs=4, n_neighbors=83, p=2,\n",
              "                      weights='uniform'),\n",
              "  KNeighborsRegressor(algorithm='auto', leaf_size=30, metric='minkowski',\n",
              "                      metric_params=None, n_jobs=4, n_neighbors=84, p=2,\n",
              "                      weights='uniform'),\n",
              "  KNeighborsRegressor(algorithm='auto', leaf_size=30, metric='minkowski',\n",
              "                      metric_params=None, n_jobs=4, n_neighbors=85, p=2,\n",
              "                      weights='uniform'),\n",
              "  KNeighborsRegressor(algorithm='auto', leaf_size=30, metric='minkowski',\n",
              "                      metric_params=None, n_jobs=4, n_neighbors=86, p=2,\n",
              "                      weights='uniform'),\n",
              "  KNeighborsRegressor(algorithm='auto', leaf_size=30, metric='minkowski',\n",
              "                      metric_params=None, n_jobs=4, n_neighbors=87, p=2,\n",
              "                      weights='uniform'),\n",
              "  KNeighborsRegressor(algorithm='auto', leaf_size=30, metric='minkowski',\n",
              "                      metric_params=None, n_jobs=4, n_neighbors=88, p=2,\n",
              "                      weights='uniform'),\n",
              "  KNeighborsRegressor(algorithm='auto', leaf_size=30, metric='minkowski',\n",
              "                      metric_params=None, n_jobs=4, n_neighbors=89, p=2,\n",
              "                      weights='uniform'),\n",
              "  KNeighborsRegressor(algorithm='auto', leaf_size=30, metric='minkowski',\n",
              "                      metric_params=None, n_jobs=4, n_neighbors=90, p=2,\n",
              "                      weights='uniform'),\n",
              "  KNeighborsRegressor(algorithm='auto', leaf_size=30, metric='minkowski',\n",
              "                      metric_params=None, n_jobs=4, n_neighbors=91, p=2,\n",
              "                      weights='uniform'),\n",
              "  KNeighborsRegressor(algorithm='auto', leaf_size=30, metric='minkowski',\n",
              "                      metric_params=None, n_jobs=4, n_neighbors=92, p=2,\n",
              "                      weights='uniform'),\n",
              "  KNeighborsRegressor(algorithm='auto', leaf_size=30, metric='minkowski',\n",
              "                      metric_params=None, n_jobs=4, n_neighbors=93, p=2,\n",
              "                      weights='uniform'),\n",
              "  KNeighborsRegressor(algorithm='auto', leaf_size=30, metric='minkowski',\n",
              "                      metric_params=None, n_jobs=4, n_neighbors=94, p=2,\n",
              "                      weights='uniform'),\n",
              "  KNeighborsRegressor(algorithm='auto', leaf_size=30, metric='minkowski',\n",
              "                      metric_params=None, n_jobs=4, n_neighbors=95, p=2,\n",
              "                      weights='uniform'),\n",
              "  KNeighborsRegressor(algorithm='auto', leaf_size=30, metric='minkowski',\n",
              "                      metric_params=None, n_jobs=4, n_neighbors=96, p=2,\n",
              "                      weights='uniform'),\n",
              "  KNeighborsRegressor(algorithm='auto', leaf_size=30, metric='minkowski',\n",
              "                      metric_params=None, n_jobs=4, n_neighbors=97, p=2,\n",
              "                      weights='uniform'),\n",
              "  KNeighborsRegressor(algorithm='auto', leaf_size=30, metric='minkowski',\n",
              "                      metric_params=None, n_jobs=4, n_neighbors=98, p=2,\n",
              "                      weights='uniform'),\n",
              "  KNeighborsRegressor(algorithm='auto', leaf_size=30, metric='minkowski',\n",
              "                      metric_params=None, n_jobs=4, n_neighbors=99, p=2,\n",
              "                      weights='uniform'),\n",
              "  KNeighborsRegressor(algorithm='auto', leaf_size=30, metric='minkowski',\n",
              "                      metric_params=None, n_jobs=4, n_neighbors=100, p=2,\n",
              "                      weights='uniform')])"
            ]
          },
          "metadata": {
            "tags": []
          },
          "execution_count": 52
        },
        {
          "output_type": "display_data",
          "data": {
            "image/png": "[encoded data removed]",
            "text/plain": [
              "<Figure size 432x288 with 1 Axes>"
            ]
          },
          "metadata": {
            "tags": []
          }
        }
      ]
    },
    {
      "cell_type": "code",
      "metadata": {
        "id": "BbbAQviScckU"
      },
      "source": [
        "@jit\n",
        "def find_first(array, match):\n",
        "    \"\"\"find the index of the first match\n",
        "\n",
        "    Expects a 1-dimensional array or list\n",
        "\n",
        "    Args:\n",
        "     array (numpy.array): thing to search\n",
        "     match: thing to match\n",
        "\n",
        "    Returns:\n",
        "     int: index of the first match found (or None)\n",
        "    \"\"\"\n",
        "    for index in range(len(array)):\n",
        "        if array[index] == match:\n",
        "            return index\n",
        "    return"
      ],
      "execution_count": 53,
      "outputs": []
    },
    {
      "cell_type": "code",
      "metadata": {
        "colab": {
          "base_uri": "https://localhost:8080/"
        },
        "id": "w0QiD0krXk1E",
        "outputId": "517960db-15a8-4d21-9450-5efe8353d000"
      },
      "source": [
        "import matplotlib.pyplot as plt  \n",
        "from sklearn import datasets\n",
        "from sklearn.model_selection import train_test_split\n",
        "import numpy as np\n",
        "from sklearn.metrics import mean_squared_error\n",
        "boston=datasets.load_boston()\n",
        "x=boston.data[:,:]\n",
        "y=boston.target\n",
        "print(x.shape,y.shape)\n",
        "xtrain,xtest,ytrain,ytest=train_test_split(x,y,test_size=0.20,random_state=42)\n",
        "\n",
        "%matplotlib inline\n",
        "seaborn.set_style(\"whitegrid\")"
      ],
      "execution_count": 54,
      "outputs": [
        {
          "output_type": "stream",
          "text": [
            "(506, 13) (506,)\n"
          ],
          "name": "stdout"
        }
      ]
    },
    {
      "cell_type": "code",
      "metadata": {
        "colab": {
          "base_uri": "https://localhost:8080/"
        },
        "id": "QGp-T6QvXlMT",
        "outputId": "0b08672b-bb8e-4d3a-ffa9-904da2bf1443"
      },
      "source": [
        "boston = load_boston()\n",
        "print(\"Boston data-shape: {0}\".format(boston.data.shape))"
      ],
      "execution_count": 55,
      "outputs": [
        {
          "output_type": "stream",
          "text": [
            "Boston data-shape: (506, 13)\n"
          ],
          "name": "stdout"
        }
      ]
    },
    {
      "cell_type": "markdown",
      "metadata": {
        "id": "3dsjEt11YMY8"
      },
      "source": [
        "\n",
        "*   CRIM per capita crime rate by town\n",
        "* ZN proportion of residential land zoned for lots over 25,000 sq.ft.\n",
        "* INDUS proportion of non-retail business acres per town\n",
        "* CHAS Charles River dummy variable (= 1 if tract bounds river; 0 otherwise)\n",
        "* NOX nitric oxides concentration (parts per 10 million)\n",
        "* RM average number of rooms per dwelling\n",
        "* AGE proportion of owner-occupied units built prior to 1940\n",
        "* DIS weighted distances to five Boston employment centres\n",
        "* RAD index of accessibility to radial highways\n",
        "* TAX full-value property-tax rate per $10,000\n",
        "* PTRATIO pupil-teacher ratio by town\n",
        "* B 1000(Bk - 0.63)^2 where Bk is the proportion of blacks by town\n",
        "* LSTAT % lower status of the population\n",
        "* MEDV Median value of owner-occupied homes in $1000's\n"
      ]
    },
    {
      "cell_type": "code",
      "metadata": {
        "colab": {
          "base_uri": "https://localhost:8080/"
        },
        "id": "pGrrbArmXnUV",
        "outputId": "8198f2a8-6733-4311-e3d5-e52f13bd97f7"
      },
      "source": [
        "print(boston.keys())"
      ],
      "execution_count": 56,
      "outputs": [
        {
          "output_type": "stream",
          "text": [
            "dict_keys(['data', 'target', 'feature_names', 'DESCR', 'filename'])\n"
          ],
          "name": "stdout"
        }
      ]
    },
    {
      "cell_type": "markdown",
      "metadata": {
        "id": "xPXY-WtWX_Wu"
      },
      "source": [
        "## **Model Performance**"
      ]
    },
    {
      "cell_type": "code",
      "metadata": {
        "id": "HwtmQo_uXrD4"
      },
      "source": [
        "X_train, X_test, y_train, y_test = train_test_split(boston.data, boston.target)"
      ],
      "execution_count": 57,
      "outputs": []
    },
    {
      "cell_type": "code",
      "metadata": {
        "id": "avgv4OC7XtuT",
        "colab": {
          "base_uri": "https://localhost:8080/",
          "height": 312
        },
        "outputId": "3d49a592-4358-4cbb-8355-4908902ebc06"
      },
      "source": [
        "def get_r_squared(max_neighbors=10):\n",
        "    train_score = []\n",
        "    test_score = []\n",
        "    models = []\n",
        "    for neighbors in range(1, max_neighbors+1):\n",
        "        model = KNeighborsRegressor(n_neighbors=neighbors)\n",
        "        model.fit(X_train, y_train)\n",
        "        train_score.append(model.score(X_train, y_train))\n",
        "        test_score.append(model.score(X_test, y_test))\n",
        "        models.append(model)\n",
        "    return train_score, test_score, models\n",
        "train_score, test_score, models = get_r_squared()\n",
        "neighbors = range(1, 11)\n",
        "pyplot.plot(neighbors, train_score, label=\"Training $r^2$\")\n",
        "pyplot.plot(neighbors, test_score, label=\"Testing $r^2$\")\n",
        "pyplot.xlabel(\"Neighbors\")\n",
        "pyplot.ylabel(\"$r^2$\")\n",
        "pyplot.title(\"KNN Boston Housing Prices\")\n",
        "pyplot.legend()"
      ],
      "execution_count": 58,
      "outputs": [
        {
          "output_type": "execute_result",
          "data": {
            "text/plain": [
              "<matplotlib.legend.Legend at 0x7fab56308190>"
            ]
          },
          "metadata": {
            "tags": []
          },
          "execution_count": 58
        },
        {
          "output_type": "display_data",
          "data": {
            "image/png": "[encoded data removed]",
            "text/plain": [
              "<Figure size 432x288 with 1 Axes>"
            ]
          },
          "metadata": {
            "tags": []
          }
        }
      ]
    },
    {
      "cell_type": "code",
      "metadata": {
        "colab": {
          "base_uri": "https://localhost:8080/"
        },
        "id": "KUdZc7piXxL5",
        "outputId": "7caffd91-119f-460e-f582-86c53606239d"
      },
      "source": [
        "from sklearn.linear_model import LinearRegression\n",
        "regressor = LinearRegression()\n",
        "regressor.fit(X_train, y_train)"
      ],
      "execution_count": 59,
      "outputs": [
        {
          "output_type": "execute_result",
          "data": {
            "text/plain": [
              "LinearRegression(copy_X=True, fit_intercept=True, n_jobs=None, normalize=False)"
            ]
          },
          "metadata": {
            "tags": []
          },
          "execution_count": 59
        }
      ]
    },
    {
      "cell_type": "code",
      "metadata": {
        "colab": {
          "base_uri": "https://localhost:8080/"
        },
        "id": "whAjBisrmdbw",
        "outputId": "b43756b9-f957-4968-8d8c-04a8abf9fad7"
      },
      "source": [
        "print(\"Intercept: \", regressor.intercept_)"
      ],
      "execution_count": 60,
      "outputs": [
        {
          "output_type": "stream",
          "text": [
            "Intercept:  39.63244448147978\n"
          ],
          "name": "stdout"
        }
      ]
    },
    {
      "cell_type": "code",
      "metadata": {
        "colab": {
          "base_uri": "https://localhost:8080/",
          "height": 294
        },
        "id": "XLl2qF_emdz2",
        "outputId": "726f23e0-e3d6-41e4-fb1c-6c8897ab2d33"
      },
      "source": [
        "pred_linreg = regressor.predict(X_test)\n",
        "plt.scatter(y_test,pred_linreg)\n",
        "plt.xlabel(\"Prices\")\n",
        "plt.ylabel(\"Predicted prices\")\n",
        "plt.title(\"Prices vs Predicted prices\")\n",
        "plt.show()"
      ],
      "execution_count": 61,
      "outputs": [
        {
          "output_type": "display_data",
          "data": {
            "image/png": "[encoded data removed]",
            "text/plain": [
              "<Figure size 432x288 with 1 Axes>"
            ]
          },
          "metadata": {
            "tags": []
          }
        }
      ]
    },
    {
      "cell_type": "code",
      "metadata": {
        "colab": {
          "base_uri": "https://localhost:8080/",
          "height": 294
        },
        "id": "yeOzbzLdmd3W",
        "outputId": "e665c0b4-3c45-472f-97a4-a854b01dc425"
      },
      "source": [
        "plt.scatter(pred_linreg,y_test-pred_linreg)\n",
        "plt.title(\"Predicted vs residuals\")\n",
        "plt.xlabel(\"Predicted\")\n",
        "plt.ylabel(\"Residuals\")\n",
        "plt.show()"
      ],
      "execution_count": 62,
      "outputs": [
        {
          "output_type": "display_data",
          "data": {
            "image/png": "[encoded data removed]",
            "text/plain": [
              "<Figure size 432x288 with 1 Axes>"
            ]
          },
          "metadata": {
            "tags": []
          }
        }
      ]
    },
    {
      "cell_type": "code",
      "metadata": {
        "colab": {
          "base_uri": "https://localhost:8080/",
          "height": 354
        },
        "id": "r43PplLXmd61",
        "outputId": "2284070b-4ef7-45ba-ca40-264fb121bd73"
      },
      "source": [
        "sns.distplot((y_test-pred_linreg),bins=50)\n",
        "plt.title(\"Distribution of the predicted values\")"
      ],
      "execution_count": 63,
      "outputs": [
        {
          "output_type": "stream",
          "text": [
            "/usr/local/lib/python3.7/dist-packages/seaborn/distributions.py:2557: FutureWarning: `distplot` is a deprecated function and will be removed in a future version. Please adapt your code to use either `displot` (a figure-level function with similar flexibility) or `histplot` (an axes-level function for histograms).\n",
            "  warnings.warn(msg, FutureWarning)\n"
          ],
          "name": "stderr"
        },
        {
          "output_type": "execute_result",
          "data": {
            "text/plain": [
              "Text(0.5, 1.0, 'Distribution of the predicted values')"
            ]
          },
          "metadata": {
            "tags": []
          },
          "execution_count": 63
        },
        {
          "output_type": "display_data",
          "data": {
            "image/png": "[encoded data removed]",
            "text/plain": [
              "<Figure size 432x288 with 1 Axes>"
            ]
          },
          "metadata": {
            "tags": []
          }
        }
      ]
    },
    {
      "cell_type": "code",
      "metadata": {
        "colab": {
          "base_uri": "https://localhost:8080/"
        },
        "id": "Cq6ki8HDmu8x",
        "outputId": "17b17b96-ae21-440e-d33e-848003bff67c"
      },
      "source": [
        "from sklearn import metrics\n",
        "import numpy as np \n",
        "\n",
        "print('Mean Absolute Error:', metrics.mean_absolute_error(y_test, pred_linreg))\n",
        "print('Mean Squared Error:', metrics.mean_squared_error(y_test, pred_linreg))\n",
        "print('Root Mean Squared Error:', np.sqrt(metrics.mean_squared_error(y_test, pred_linreg)))\n",
        "print('R^2:',metrics.r2_score(y_test, pred_linreg))"
      ],
      "execution_count": 64,
      "outputs": [
        {
          "output_type": "stream",
          "text": [
            "Mean Absolute Error: 3.4311750600744064\n",
            "Mean Squared Error: 24.634234817775813\n",
            "Root Mean Squared Error: 4.963288709895467\n",
            "R^2: 0.7306188658118344\n"
          ],
          "name": "stdout"
        }
      ]
    },
    {
      "cell_type": "code",
      "metadata": {
        "colab": {
          "base_uri": "https://localhost:8080/"
        },
        "id": "qTfI9NMSmvLB",
        "outputId": "97bf7457-9aba-4dec-c9c2-56303b9d5ce9"
      },
      "source": [
        "x = regressor.score(X_test, y_test)\n",
        "print(x)"
      ],
      "execution_count": 65,
      "outputs": [
        {
          "output_type": "stream",
          "text": [
            "0.7306188658118344\n"
          ],
          "name": "stdout"
        }
      ]
    },
    {
      "cell_type": "code",
      "metadata": {
        "colab": {
          "base_uri": "https://localhost:8080/"
        },
        "id": "nJuf2m8Km6uw",
        "outputId": "92556330-e51f-43a4-b463-7884b0e444a8"
      },
      "source": [
        "regressorscore= x*100\n",
        "print(\"Regressor Score: \",regressorscore)"
      ],
      "execution_count": 66,
      "outputs": [
        {
          "output_type": "stream",
          "text": [
            "Regressor Score:  73.06188658118344\n"
          ],
          "name": "stdout"
        }
      ]
    },
    {
      "cell_type": "code",
      "metadata": {
        "colab": {
          "base_uri": "https://localhost:8080/"
        },
        "id": "_3s3XKg4m6yp",
        "outputId": "f329c901-1f33-4de4-aabc-a4b1cd9e85e3"
      },
      "source": [
        "import random\n",
        "n = random.randint(0,101)\n",
        "print(\"Sample number: \", n)"
      ],
      "execution_count": 67,
      "outputs": [
        {
          "output_type": "stream",
          "text": [
            "Sample number:  13\n"
          ],
          "name": "stdout"
        }
      ]
    },
    {
      "cell_type": "code",
      "metadata": {
        "id": "UbaFEy1nnHay"
      },
      "source": [
        "def dis(v,w):\n",
        "    return np.sqrt(np.sum((v-w)**2))\n",
        "def knn_r(tr, tr_lab, te , k):\n",
        "    distances = []\n",
        "    \n",
        "    for i in range(tr.shape[0]):\n",
        "        distances.append(dis(tr[i], te))\n",
        "    \n",
        "    distances = np.array(distances)\n",
        "    inds = np.argsort(distances)\n",
        "    \n",
        "    distances = distances[inds]\n",
        "    tr_lab_2 = tr_lab[inds]\n",
        "    value = np.average(tr_lab_2[:k])\n",
        "    \n",
        "    return value"
      ],
      "execution_count": 68,
      "outputs": []
    },
    {
      "cell_type": "code",
      "metadata": {
        "colab": {
          "base_uri": "https://localhost:8080/"
        },
        "id": "g0Az2Bwknrzu",
        "outputId": "b1186d99-45df-499b-9363-de23d6db62ef"
      },
      "source": [
        "def knn_reg(tr , tr_lab, te , te_lab , k):\n",
        "    preds = []\n",
        "    for i in range(te.shape[0]):\n",
        "        value = knn_r(tr, tr_lab, te[i] , k)\n",
        "        preds.append(value)\n",
        "    \n",
        "    preds  = np.array(preds)\n",
        "    err = mean_squared_error(te_lab , preds)\n",
        "    return err\n",
        "acc = knn_reg(xtrain , ytrain , xtest , ytest ,5)\n",
        "print (\"MEAN SQUARED ERROR:\",acc)"
      ],
      "execution_count": 69,
      "outputs": [
        {
          "output_type": "stream",
          "text": [
            "MEAN SQUARED ERROR: 25.860125490196076\n"
          ],
          "name": "stdout"
        }
      ]
    },
    {
      "cell_type": "code",
      "metadata": {
        "colab": {
          "base_uri": "https://localhost:8080/"
        },
        "id": "FG1WE1yLXzOW",
        "outputId": "e451d685-9fa6-40b7-a580-1d243614da5f"
      },
      "source": [
        "print(\"Training r2 for 2 neigbors: {:.2f}\".format(train_score[1]))\n",
        "print(\"Testing r2 for 2 neighbors: {:.2f}\".format(test_score[1]))\n",
        "# assert max(test_score) == test_score[1]"
      ],
      "execution_count": 70,
      "outputs": [
        {
          "output_type": "stream",
          "text": [
            "Training r2 for 2 neigbors: 0.84\n",
            "Testing r2 for 2 neighbors: 0.48\n"
          ],
          "name": "stdout"
        }
      ]
    }
  ]
}